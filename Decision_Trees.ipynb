{
 "cells": [
  {
   "cell_type": "markdown",
   "metadata": {},
   "source": [
    "Duplicate Question Pair Detection in Quora Question Pairs "
   ]
  },
  {
   "cell_type": "markdown",
   "metadata": {},
   "source": [
    "Import the required libraries"
   ]
  },
  {
   "cell_type": "code",
   "execution_count": 81,
   "metadata": {},
   "outputs": [
    {
     "name": "stdout",
     "output_type": "stream",
     "text": [
      "Requirement already satisfied: nltk in /Users/sarthak/.pyenv/versions/3.9.13/lib/python3.9/site-packages (3.7)\n",
      "Requirement already satisfied: tqdm in /Users/sarthak/.pyenv/versions/3.9.13/lib/python3.9/site-packages (from nltk) (4.64.1)\n",
      "Requirement already satisfied: regex>=2021.8.3 in /Users/sarthak/.pyenv/versions/3.9.13/lib/python3.9/site-packages (from nltk) (2022.10.31)\n",
      "Requirement already satisfied: joblib in /Users/sarthak/.pyenv/versions/3.9.13/lib/python3.9/site-packages (from nltk) (1.2.0)\n",
      "Requirement already satisfied: click in /Users/sarthak/.pyenv/versions/3.9.13/lib/python3.9/site-packages (from nltk) (8.1.3)\n",
      "\u001b[33mWARNING: You are using pip version 22.0.4; however, version 22.3.1 is available.\n",
      "You should consider upgrading via the '/Users/sarthak/.pyenv/versions/3.9.13/bin/python3.9 -m pip install --upgrade pip' command.\u001b[0m\u001b[33m\n",
      "\u001b[0m"
     ]
    }
   ],
   "source": [
    "!pip install nltk"
   ]
  },
  {
   "cell_type": "code",
   "execution_count": 82,
   "metadata": {},
   "outputs": [
    {
     "name": "stderr",
     "output_type": "stream",
     "text": [
      "[nltk_data] Downloading package stopwords to\n",
      "[nltk_data]     /Users/sarthak/nltk_data...\n",
      "[nltk_data]   Package stopwords is already up-to-date!\n"
     ]
    }
   ],
   "source": [
    "# importing required libraries for duplicquestion detection\n",
    "import pandas as pd\n",
    "import numpy as np\n",
    "import matplotlib.pyplot as plt\n",
    "import re\n",
    "import nltk\n",
    "nltk.download('stopwords')\n",
    "from nltk.corpus import stopwords\n",
    "from nltk.stem import PorterStemmer\n",
    "from nltk.tokenize import word_tokenize\n",
    "from sklearn.feature_extraction.text import TfidfVectorizer, CountVectorizer\n",
    "from sklearn.model_selection import train_test_split\n",
    "from sklearn.metrics import accuracy_score, confusion_matrix, classification_report\n",
    "from sklearn.tree import DecisionTreeClassifier\n",
    "from sklearn.ensemble import RandomForestClassifier\n",
    "from sklearn.naive_bayes import MultinomialNB\n",
    "from sklearn.svm import SVC\n",
    "from sklearn.ensemble import GradientBoostingClassifier\n",
    "from sklearn.linear_model import LogisticRegression\n",
    "from sklearn.neighbors import KNeighborsClassifier\n",
    "from sklearn.metrics import accuracy_score, confusion_matrix, classification_report\n",
    "from sklearn.model_selection import cross_val_score\n",
    "from sklearn.model_selection import GridSearchCV\n",
    "from sklearn.metrics import roc_curve, auc\n",
    "from sklearn.metrics import roc_auc_score\n",
    "from sklearn.metrics import precision_recall_curve\n",
    "from sklearn.metrics import average_precision_score\n",
    "from sklearn.metrics import f1_score\n",
    "from sklearn.metrics import recall_score\n",
    "from sklearn.metrics import precision_score\n",
    "from sklearn.metrics import classification_report\n",
    "from sklearn.metrics import confusion_matrix\n",
    "from sklearn.metrics import accuracy_score\n",
    "from sklearn.metrics import precision_recall_fscore_support\n",
    "import pickle"
   ]
  },
  {
   "cell_type": "markdown",
   "metadata": {},
   "source": [
    "All Functions"
   ]
  },
  {
   "cell_type": "code",
   "execution_count": 83,
   "metadata": {},
   "outputs": [],
   "source": [
    "def pun(text):\n",
    "    text = re.sub(r'[^\\w\\s]','',text)\n",
    "    return text\n",
    "\n",
    "def clean_dataset(df):\n",
    "    #drop na\n",
    "    df.dropna(inplace=True)\n",
    "    indices_to_keep=~df.isin([np.nan, np.inf, -np.inf]).any(1)\n",
    "    df=df[indices_to_keep].astype(np.float64)\n",
    "    return df\n",
    "\n",
    "def length(text):\n",
    "    return len(text)\n",
    "\n",
    "def diff_length(text1, text2):\n",
    "    return abs(len(text1) - len(text2))\n",
    "\n",
    "def len_ratio(text1,text2):\n",
    "    return float(len(text1)/len(text2))\n",
    "\n",
    "def com_low(text):\n",
    "    text1=text[0]\n",
    "    text2=text[1]\n",
    "    #split text1 and 2\n",
    "    text1=text1.split()\n",
    "    text2=text2.split()\n",
    "    #check for lower case\n",
    "    test1_low=set()\n",
    "    test2_low=set()\n",
    "    # check if the word is lower case or not\n",
    "    for word in text1:\n",
    "        if word.islower():\n",
    "            test1_low.add(word)\n",
    "    for word in text2:\n",
    "        if word.islower():\n",
    "            test2_low.add(word)\n",
    "    #check for common lower case words\n",
    "    common_low=test1_low.intersection(test2_low)\n",
    "    return len(list(common_low))\n",
    "\n",
    "def stop(text):\n",
    "    text1=text[0]\n",
    "    text2=text[1]\n",
    "    #split text1 and 2\n",
    "    text1=text1.split()\n",
    "    text2=text2.split()\n",
    "    #check for stop words\n",
    "    text1_low=set()\n",
    "    text2_low=set()\n",
    "    stop_words=set(stopwords.words('english'))\n",
    "    # check if the word is stop word or not\n",
    "    for word in text1:\n",
    "        #checkif word is lower case\n",
    "        if word.islower():\n",
    "            text1_low.add(word)\n",
    "    \n",
    "    text1=list(text1_low)\n",
    "    for word in text2:\n",
    "        #check if word is lower case\n",
    "        if word.islower():\n",
    "            text2_low.add(word)\n",
    "    text2=list(text2_low)\n",
    "    #check for lowercase as well as stop_words\n",
    "    text1=[w for w in text1 if not w.lower() in stop_words]\n",
    "    text2=[w for w in text2 if not w.lower() in stop_words]\n",
    "    text1=set(text1)\n",
    "    text2=set(text2)\n",
    "    #check for common stop words\n",
    "    common_stop=text1.intersection(text2)\n",
    "    return len(list(common_stop))\n",
    "\n",
    "def last(text):\n",
    "    text1=text[0]\n",
    "    text2=text[1]\n",
    "    #split text1 and 2\n",
    "    text1=list(text1.split(\" \"))\n",
    "    text2=list(text2.split(\" \"))\n",
    "    #check for last word\n",
    "    if text1[len(list(text1))-1]==text2[len(list(text2))-1]:\n",
    "        return 1\n",
    "    else:\n",
    "        return 0\n",
    "\n",
    "def com_cap(text):\n",
    "    text1=text[0]\n",
    "    text2=text[1]\n",
    "    #split text1 and 2\n",
    "    text1=text1.split()\n",
    "    text2=text2.split()\n",
    "    #check for common capital words\n",
    "    test1_cap=set()\n",
    "    test2_cap=set()\n",
    "    # check if the word is capital or not\n",
    "    for word in text1:\n",
    "        if word.isupper():\n",
    "            test1_cap.add(word)\n",
    "    for word in text2:\n",
    "        if word.isupper():\n",
    "            test2_cap.add(word)\n",
    "    #check for common capital words\n",
    "    common_cap=test1_cap.intersection(test2_cap)\n",
    "    return len(list(common_cap))\n",
    "\n",
    "def pre(text,n):\n",
    "    text1=text[0]\n",
    "    text2=text[1]\n",
    "    #split text1 and 2\n",
    "    text1=text1.split()\n",
    "    text2=text2.split()\n",
    "    #check for common prefix\n",
    "    str1=text1\n",
    "    str2=text2\n",
    "    str1.sort()\n",
    "    i=0\n",
    "    j=0\n",
    "    str2.sort()\n",
    "    ans = 0\n",
    "    while True:\n",
    "        if i >= len(str1) or j >= len(str2):\n",
    "            break\n",
    "        if len(str1[i]) < n:\n",
    "            i += 1\n",
    "            continue\n",
    "        if len(str2[j]) < n:\n",
    "            j += 1\n",
    "            continue\n",
    "        s1 = str1[i][0:n]\n",
    "        s2 = str2[j][0:n]\n",
    "        if s1 == s2:\n",
    "            ans += 1\n",
    "            i += 1 \n",
    "            j += 1 \n",
    "        else:\n",
    "            if str1[i]>str2[j]:\n",
    "                j += 1\n",
    "            else:\n",
    "                i += 1\n",
    "    return ans\n",
    "\n",
    "def misc1(text):\n",
    "    #check if not is present of not\n",
    "    text=text.split()\n",
    "    if 'not' in text:\n",
    "        return 1\n",
    "    else:\n",
    "        return 0\n",
    "    \n",
    "def misc2(text):\n",
    "    text1=text[0]\n",
    "    text2=text[1]\n",
    "    #split text1 and 2\n",
    "    text1=text1.split()\n",
    "    text2=text2.split()\n",
    "    #check is not is present in both\n",
    "    if 'not' in text1 and 'not' in text2:\n",
    "        return 1\n",
    "    else:\n",
    "        return 0\n",
    "\n",
    "def misc3(text):\n",
    "    text1=text[0]\n",
    "    text2=text[1]\n",
    "    #split text1 and 2\n",
    "    text1=text1.split()\n",
    "    text2=text2.split()\n",
    "    #check if word is in digit and is in text2 as well\n",
    "    for word in text1:\n",
    "        if word.isdigit():\n",
    "            if word in text2:\n",
    "                return 1\n",
    "    return 0\n",
    "\n",
    "def misc4(text):\n",
    "    text1=text[0]\n",
    "    text2=text[1]\n",
    "    ps=PorterStemmer()\n",
    "    #tokenize word1 and word2\n",
    "    text1=text1.split()\n",
    "    text2=text2.split()\n",
    "    text_s1=[]\n",
    "    text_s2=[]\n",
    "    #stemming\n",
    "    for word in text1:\n",
    "        text_s1.append(ps.stem(word))\n",
    "    for word in text2:\n",
    "        text_s2.append(ps.stem(word))\n",
    "    text1_low=set()\n",
    "    text2_low=set()\n",
    "    # check if the word is lower case or not\n",
    "    for word in text_s1:\n",
    "        if word.islower():\n",
    "            text1_low.add(word)\n",
    "    for word in text_s2:\n",
    "        if word.islower():\n",
    "            text2_low.add(word)\n",
    "    #check for common lower case words\n",
    "    common_low=text1_low.intersection(text2_low)\n",
    "    return len(list(common_low))\n"
   ]
  },
  {
   "cell_type": "markdown",
   "metadata": {},
   "source": [
    "Importing the dataset"
   ]
  },
  {
   "cell_type": "code",
   "execution_count": 84,
   "metadata": {},
   "outputs": [],
   "source": [
    "data = pd.read_csv(\"./train.csv\")\n",
    "data = data.dropna(how=\"any\").reset_index(drop=True)"
   ]
  },
  {
   "cell_type": "code",
   "execution_count": 87,
   "metadata": {},
   "outputs": [
    {
     "name": "stdout",
     "output_type": "stream",
     "text": [
      "   id  qid1  qid2                                          question1  \\\n",
      "0   0     1     2  What is the step by step guide to invest in sh...   \n",
      "1   1     3     4     What is the story of Kohinoor KohiNoor Diamond   \n",
      "2   2     5     6  How can I increase the speed of my internet co...   \n",
      "3   3     7     8   Why am I mentally very lonely How can I solve it   \n",
      "4   4     9    10  Which one dissolve in water quikly sugar salt ...   \n",
      "\n",
      "                                           question2  is_duplicate  l1  l2  \\\n",
      "0  What is the step by step guide to invest in sh...             0  65  56   \n",
      "1  What would happen if the Indian government sto...             0  46  83   \n",
      "2  How can Internet speed be increased by hacking...             0  72  58   \n",
      "3  Find the remainder when math2324math is divide...             0  48  55   \n",
      "4             Which fish would survive in salt water             0  73  38   \n",
      "\n",
      "   l3        l4  lc1       lc2  lw_1  cap_1  cap_2  \n",
      "0   9  1.160714   10  0.008850     0      0    0.0  \n",
      "1  37  0.554217    1  0.000885     0      0    0.0  \n",
      "2  14  1.241379    2  0.001770     0      0    0.0  \n",
      "3   7  0.872727    0  0.000000     0      0    0.0  \n",
      "4  35  1.921053    3  0.002655     0      0    0.0  \n"
     ]
    }
   ],
   "source": [
    "#apply pun function\n",
    "data['question1']=data['question1'].apply(pun)\n",
    "data['question2']=data['question2'].apply(pun)\n",
    "#apply lenght function\n",
    "data['l1']=data['question1'].apply(length)\n",
    "data['l2']=data['question2'].apply(length)\n",
    "#apply diff_length function\n",
    "data['l3']=abs(data['l1']-data['l2'])\n",
    "#apply len_ratio function\n",
    "data['l4']=(data['l1']/data['l2'])\n",
    "#copy data in to data_l\n",
    "data_l=data.copy()\n",
    "#apply com_low function\n",
    "data['lc1']=data[['question1','question2']].apply(com_low,axis=1)\n",
    "\n",
    "sen1=data['question1'].str.len().idxmax()\n",
    "sen2=data['question2'].str.len().idxmax()\n",
    "#get the longest sentence\n",
    "l1=len(data['question1'][sen1])\n",
    "l2=len(data['question2'][sen2])\n",
    "#get max between l1 and l2\n",
    "l=max(l1,l2)\n",
    "data['lc2']=data[['question1','question2']].apply(com_low,axis=1)\n",
    "data['lc2']=data['lc2']/l\n",
    "#copy data in to data_2\n",
    "data_2=data.copy()\n",
    "data_2.head()\n",
    "#data['lcxs_1']=data[['question1','question2']].apply(lambda x:stop(x),axis=1)\n",
    "#data['lxcs_2']=(data['lcxs_1'])/l\n",
    "#copy data in to data_3\n",
    "data_3=data.copy()\n",
    "# data.head()"
   ]
  },
  {
   "cell_type": "code",
   "execution_count": 86,
   "metadata": {},
   "outputs": [
    {
     "ename": "KeyboardInterrupt",
     "evalue": "",
     "output_type": "error",
     "traceback": [
      "\u001b[0;31m---------------------------------------------------------------------------\u001b[0m",
      "\u001b[0;31mKeyboardInterrupt\u001b[0m                         Traceback (most recent call last)",
      "\u001b[1;32m/Users/sarthak/Quora-duplicate-questions-pair-detection-Team-14/Decision_Trees.ipynb Cell 10\u001b[0m in \u001b[0;36m<cell line: 8>\u001b[0;34m()\u001b[0m\n\u001b[1;32m      <a href='vscode-notebook-cell:/Users/sarthak/Quora-duplicate-questions-pair-detection-Team-14/Decision_Trees.ipynb#X16sZmlsZQ%3D%3D?line=4'>5</a>\u001b[0m data_5\u001b[39m=\u001b[39mdata\u001b[39m.\u001b[39mcopy()\n\u001b[1;32m      <a href='vscode-notebook-cell:/Users/sarthak/Quora-duplicate-questions-pair-detection-Team-14/Decision_Trees.ipynb#X16sZmlsZQ%3D%3D?line=6'>7</a>\u001b[0m \u001b[39m#apply all the prefix function\u001b[39;00m\n\u001b[0;32m----> <a href='vscode-notebook-cell:/Users/sarthak/Quora-duplicate-questions-pair-detection-Team-14/Decision_Trees.ipynb#X16sZmlsZQ%3D%3D?line=7'>8</a>\u001b[0m data[\u001b[39m'\u001b[39m\u001b[39mpre_1\u001b[39m\u001b[39m'\u001b[39m]\u001b[39m=\u001b[39mdata[[\u001b[39m'\u001b[39;49m\u001b[39mquestion1\u001b[39;49m\u001b[39m'\u001b[39;49m,\u001b[39m'\u001b[39;49m\u001b[39mquestion2\u001b[39;49m\u001b[39m'\u001b[39;49m]]\u001b[39m.\u001b[39;49mapply(\u001b[39mlambda\u001b[39;49;00m x:pre(x,\u001b[39m3\u001b[39;49m),axis\u001b[39m=\u001b[39;49m\u001b[39m1\u001b[39;49m)\n\u001b[1;32m      <a href='vscode-notebook-cell:/Users/sarthak/Quora-duplicate-questions-pair-detection-Team-14/Decision_Trees.ipynb#X16sZmlsZQ%3D%3D?line=8'>9</a>\u001b[0m data[\u001b[39m'\u001b[39m\u001b[39mpre_3\u001b[39m\u001b[39m'\u001b[39m]\u001b[39m=\u001b[39mdata[[\u001b[39m'\u001b[39m\u001b[39mquestion1\u001b[39m\u001b[39m'\u001b[39m,\u001b[39m'\u001b[39m\u001b[39mquestion2\u001b[39m\u001b[39m'\u001b[39m]]\u001b[39m.\u001b[39mapply(\u001b[39mlambda\u001b[39;00m x:pre(x,\u001b[39m4\u001b[39m),axis\u001b[39m=\u001b[39m\u001b[39m1\u001b[39m)\n\u001b[1;32m     <a href='vscode-notebook-cell:/Users/sarthak/Quora-duplicate-questions-pair-detection-Team-14/Decision_Trees.ipynb#X16sZmlsZQ%3D%3D?line=9'>10</a>\u001b[0m data[\u001b[39m'\u001b[39m\u001b[39mpre_5\u001b[39m\u001b[39m'\u001b[39m]\u001b[39m=\u001b[39mdata[[\u001b[39m'\u001b[39m\u001b[39mquestion1\u001b[39m\u001b[39m'\u001b[39m,\u001b[39m'\u001b[39m\u001b[39mquestion2\u001b[39m\u001b[39m'\u001b[39m]]\u001b[39m.\u001b[39mapply(\u001b[39mlambda\u001b[39;00m x:pre(x,\u001b[39m5\u001b[39m),axis\u001b[39m=\u001b[39m\u001b[39m1\u001b[39m)\n",
      "File \u001b[0;32m~/.pyenv/versions/3.9.13/lib/python3.9/site-packages/pandas/core/frame.py:9555\u001b[0m, in \u001b[0;36mDataFrame.apply\u001b[0;34m(self, func, axis, raw, result_type, args, **kwargs)\u001b[0m\n\u001b[1;32m   9544\u001b[0m \u001b[39mfrom\u001b[39;00m \u001b[39mpandas\u001b[39;00m\u001b[39m.\u001b[39;00m\u001b[39mcore\u001b[39;00m\u001b[39m.\u001b[39;00m\u001b[39mapply\u001b[39;00m \u001b[39mimport\u001b[39;00m frame_apply\n\u001b[1;32m   9546\u001b[0m op \u001b[39m=\u001b[39m frame_apply(\n\u001b[1;32m   9547\u001b[0m     \u001b[39mself\u001b[39m,\n\u001b[1;32m   9548\u001b[0m     func\u001b[39m=\u001b[39mfunc,\n\u001b[0;32m   (...)\u001b[0m\n\u001b[1;32m   9553\u001b[0m     kwargs\u001b[39m=\u001b[39mkwargs,\n\u001b[1;32m   9554\u001b[0m )\n\u001b[0;32m-> 9555\u001b[0m \u001b[39mreturn\u001b[39;00m op\u001b[39m.\u001b[39;49mapply()\u001b[39m.\u001b[39m__finalize__(\u001b[39mself\u001b[39m, method\u001b[39m=\u001b[39m\u001b[39m\"\u001b[39m\u001b[39mapply\u001b[39m\u001b[39m\"\u001b[39m)\n",
      "File \u001b[0;32m~/.pyenv/versions/3.9.13/lib/python3.9/site-packages/pandas/core/apply.py:746\u001b[0m, in \u001b[0;36mFrameApply.apply\u001b[0;34m(self)\u001b[0m\n\u001b[1;32m    743\u001b[0m \u001b[39melif\u001b[39;00m \u001b[39mself\u001b[39m\u001b[39m.\u001b[39mraw:\n\u001b[1;32m    744\u001b[0m     \u001b[39mreturn\u001b[39;00m \u001b[39mself\u001b[39m\u001b[39m.\u001b[39mapply_raw()\n\u001b[0;32m--> 746\u001b[0m \u001b[39mreturn\u001b[39;00m \u001b[39mself\u001b[39;49m\u001b[39m.\u001b[39;49mapply_standard()\n",
      "File \u001b[0;32m~/.pyenv/versions/3.9.13/lib/python3.9/site-packages/pandas/core/apply.py:873\u001b[0m, in \u001b[0;36mFrameApply.apply_standard\u001b[0;34m(self)\u001b[0m\n\u001b[1;32m    872\u001b[0m \u001b[39mdef\u001b[39;00m \u001b[39mapply_standard\u001b[39m(\u001b[39mself\u001b[39m):\n\u001b[0;32m--> 873\u001b[0m     results, res_index \u001b[39m=\u001b[39m \u001b[39mself\u001b[39;49m\u001b[39m.\u001b[39;49mapply_series_generator()\n\u001b[1;32m    875\u001b[0m     \u001b[39m# wrap results\u001b[39;00m\n\u001b[1;32m    876\u001b[0m     \u001b[39mreturn\u001b[39;00m \u001b[39mself\u001b[39m\u001b[39m.\u001b[39mwrap_results(results, res_index)\n",
      "File \u001b[0;32m~/.pyenv/versions/3.9.13/lib/python3.9/site-packages/pandas/core/apply.py:889\u001b[0m, in \u001b[0;36mFrameApply.apply_series_generator\u001b[0;34m(self)\u001b[0m\n\u001b[1;32m    886\u001b[0m \u001b[39mwith\u001b[39;00m option_context(\u001b[39m\"\u001b[39m\u001b[39mmode.chained_assignment\u001b[39m\u001b[39m\"\u001b[39m, \u001b[39mNone\u001b[39;00m):\n\u001b[1;32m    887\u001b[0m     \u001b[39mfor\u001b[39;00m i, v \u001b[39min\u001b[39;00m \u001b[39menumerate\u001b[39m(series_gen):\n\u001b[1;32m    888\u001b[0m         \u001b[39m# ignore SettingWithCopy here in case the user mutates\u001b[39;00m\n\u001b[0;32m--> 889\u001b[0m         results[i] \u001b[39m=\u001b[39m \u001b[39mself\u001b[39;49m\u001b[39m.\u001b[39;49mf(v)\n\u001b[1;32m    890\u001b[0m         \u001b[39mif\u001b[39;00m \u001b[39misinstance\u001b[39m(results[i], ABCSeries):\n\u001b[1;32m    891\u001b[0m             \u001b[39m# If we have a view on v, we need to make a copy because\u001b[39;00m\n\u001b[1;32m    892\u001b[0m             \u001b[39m#  series_generator will swap out the underlying data\u001b[39;00m\n\u001b[1;32m    893\u001b[0m             results[i] \u001b[39m=\u001b[39m results[i]\u001b[39m.\u001b[39mcopy(deep\u001b[39m=\u001b[39m\u001b[39mFalse\u001b[39;00m)\n",
      "\u001b[1;32m/Users/sarthak/Quora-duplicate-questions-pair-detection-Team-14/Decision_Trees.ipynb Cell 10\u001b[0m in \u001b[0;36m<lambda>\u001b[0;34m(x)\u001b[0m\n\u001b[1;32m      <a href='vscode-notebook-cell:/Users/sarthak/Quora-duplicate-questions-pair-detection-Team-14/Decision_Trees.ipynb#X16sZmlsZQ%3D%3D?line=4'>5</a>\u001b[0m data_5\u001b[39m=\u001b[39mdata\u001b[39m.\u001b[39mcopy()\n\u001b[1;32m      <a href='vscode-notebook-cell:/Users/sarthak/Quora-duplicate-questions-pair-detection-Team-14/Decision_Trees.ipynb#X16sZmlsZQ%3D%3D?line=6'>7</a>\u001b[0m \u001b[39m#apply all the prefix function\u001b[39;00m\n\u001b[0;32m----> <a href='vscode-notebook-cell:/Users/sarthak/Quora-duplicate-questions-pair-detection-Team-14/Decision_Trees.ipynb#X16sZmlsZQ%3D%3D?line=7'>8</a>\u001b[0m data[\u001b[39m'\u001b[39m\u001b[39mpre_1\u001b[39m\u001b[39m'\u001b[39m]\u001b[39m=\u001b[39mdata[[\u001b[39m'\u001b[39m\u001b[39mquestion1\u001b[39m\u001b[39m'\u001b[39m,\u001b[39m'\u001b[39m\u001b[39mquestion2\u001b[39m\u001b[39m'\u001b[39m]]\u001b[39m.\u001b[39mapply(\u001b[39mlambda\u001b[39;00m x:pre(x,\u001b[39m3\u001b[39;49m),axis\u001b[39m=\u001b[39m\u001b[39m1\u001b[39m)\n\u001b[1;32m      <a href='vscode-notebook-cell:/Users/sarthak/Quora-duplicate-questions-pair-detection-Team-14/Decision_Trees.ipynb#X16sZmlsZQ%3D%3D?line=8'>9</a>\u001b[0m data[\u001b[39m'\u001b[39m\u001b[39mpre_3\u001b[39m\u001b[39m'\u001b[39m]\u001b[39m=\u001b[39mdata[[\u001b[39m'\u001b[39m\u001b[39mquestion1\u001b[39m\u001b[39m'\u001b[39m,\u001b[39m'\u001b[39m\u001b[39mquestion2\u001b[39m\u001b[39m'\u001b[39m]]\u001b[39m.\u001b[39mapply(\u001b[39mlambda\u001b[39;00m x:pre(x,\u001b[39m4\u001b[39m),axis\u001b[39m=\u001b[39m\u001b[39m1\u001b[39m)\n\u001b[1;32m     <a href='vscode-notebook-cell:/Users/sarthak/Quora-duplicate-questions-pair-detection-Team-14/Decision_Trees.ipynb#X16sZmlsZQ%3D%3D?line=9'>10</a>\u001b[0m data[\u001b[39m'\u001b[39m\u001b[39mpre_5\u001b[39m\u001b[39m'\u001b[39m]\u001b[39m=\u001b[39mdata[[\u001b[39m'\u001b[39m\u001b[39mquestion1\u001b[39m\u001b[39m'\u001b[39m,\u001b[39m'\u001b[39m\u001b[39mquestion2\u001b[39m\u001b[39m'\u001b[39m]]\u001b[39m.\u001b[39mapply(\u001b[39mlambda\u001b[39;00m x:pre(x,\u001b[39m5\u001b[39m),axis\u001b[39m=\u001b[39m\u001b[39m1\u001b[39m)\n",
      "\u001b[1;32m/Users/sarthak/Quora-duplicate-questions-pair-detection-Team-14/Decision_Trees.ipynb Cell 10\u001b[0m in \u001b[0;36mpre\u001b[0;34m(text, n)\u001b[0m\n\u001b[1;32m    <a href='vscode-notebook-cell:/Users/sarthak/Quora-duplicate-questions-pair-detection-Team-14/Decision_Trees.ipynb#X16sZmlsZQ%3D%3D?line=121'>122</a>\u001b[0m     i \u001b[39m+\u001b[39m\u001b[39m=\u001b[39m \u001b[39m1\u001b[39m\n\u001b[1;32m    <a href='vscode-notebook-cell:/Users/sarthak/Quora-duplicate-questions-pair-detection-Team-14/Decision_Trees.ipynb#X16sZmlsZQ%3D%3D?line=122'>123</a>\u001b[0m     \u001b[39mcontinue\u001b[39;00m\n\u001b[0;32m--> <a href='vscode-notebook-cell:/Users/sarthak/Quora-duplicate-questions-pair-detection-Team-14/Decision_Trees.ipynb#X16sZmlsZQ%3D%3D?line=123'>124</a>\u001b[0m \u001b[39mif\u001b[39;00m \u001b[39mlen\u001b[39;49m(str2[j]) \u001b[39m<\u001b[39m n:\n\u001b[1;32m    <a href='vscode-notebook-cell:/Users/sarthak/Quora-duplicate-questions-pair-detection-Team-14/Decision_Trees.ipynb#X16sZmlsZQ%3D%3D?line=124'>125</a>\u001b[0m     j \u001b[39m+\u001b[39m\u001b[39m=\u001b[39m \u001b[39m1\u001b[39m\n\u001b[1;32m    <a href='vscode-notebook-cell:/Users/sarthak/Quora-duplicate-questions-pair-detection-Team-14/Decision_Trees.ipynb#X16sZmlsZQ%3D%3D?line=125'>126</a>\u001b[0m     \u001b[39mcontinue\u001b[39;00m\n",
      "\u001b[0;31mKeyboardInterrupt\u001b[0m: "
     ]
    }
   ],
   "source": [
    "data['lw_1']=data[['question1','question2']].apply(last,axis=1)\n",
    "data_4=data.copy()\n",
    "data['cap_1']=data[['question1','question2']].apply(com_cap,axis=1)\n",
    "data['cap_2']=data['cap_1']/l\n",
    "data_5=data.copy()\n",
    "\n",
    "#apply all the prefix function\n",
    "data['pre_1']=data[['question1','question2']].apply(lambda x:pre(x,3),axis=1)\n",
    "data['pre_3']=data[['question1','question2']].apply(lambda x:pre(x,4),axis=1)\n",
    "data['pre_5']=data[['question1','question2']].apply(lambda x:pre(x,5),axis=1)\n",
    "data['pre_7']=data[['question1','question2']].apply(lambda x:pre(x,6),axis=1)\n",
    "data['pre_2']=data['pre_1']/l\n",
    "data['pre_4']=data['pre_3']/l\n",
    "data['pre_6']=data['pre_5']/l\n",
    "data['pre_8']=data['pre_7']/l\n",
    "data_6=data.copy()\n",
    "\n",
    "#apply all the misc function\n",
    "data['misc1'] = data['question1'].apply(misc1)\n",
    "data['misc2'] = data['question2'].apply(misc1)\n",
    "\n",
    "data['misc3'] = data[['question1','question2']].apply(misc2,axis=1)\n",
    "data['misc4'] = data[['question1','question2']].apply(misc3,axis=1)\n",
    "data['misc5']= data[['question1','question2']].apply(lambda x:misc4(x),axis=1)\n",
    "data_7=data.copy()"
   ]
  },
  {
   "cell_type": "markdown",
   "metadata": {},
   "source": [
    "Data splitting and training"
   ]
  },
  {
   "cell_type": "code",
   "execution_count": null,
   "metadata": {},
   "outputs": [],
   "source": [
    "data_l = data_l.dropna(axis=0, how='any', thresh=None, subset=None, inplace=False)\n",
    "data_l.head()"
   ]
  },
  {
   "cell_type": "markdown",
   "metadata": {},
   "source": [
    "### Length Based"
   ]
  },
  {
   "cell_type": "code",
   "execution_count": null,
   "metadata": {},
   "outputs": [
    {
     "name": "stderr",
     "output_type": "stream",
     "text": [
      "/var/folders/y4/yphzsd_j3hbd5rzqwpdq7x9m0000gn/T/ipykernel_28679/593163608.py:8: FutureWarning: In a future version of pandas all arguments of DataFrame.any and Series.any will be keyword-only.\n",
      "  indices_to_keep=~df.isin([np.nan, np.inf, -np.inf]).any(1)\n"
     ]
    }
   ],
   "source": [
    "data_l.drop(['id', 'qid1', 'qid2', 'question1', 'question2'], inplace=True,axis=1)\n",
    "data_l.head()\n",
    "clean_dataset(data_l)\n",
    "\n",
    "y_l=data_l['is_duplicate']\n",
    "data_l.drop(['is_duplicate'], inplace=True,axis=1)\n",
    "x_train_l, x_test_l, y_train_l, y_test_l = train_test_split(data_l, y_l, test_size=0.2, random_state=42)\n",
    "x_val_l, x_test_l, y_val_l, y_test_l = train_test_split(x_test_l, y_test_l, test_size=0.5, random_state=42)"
   ]
  },
  {
   "cell_type": "markdown",
   "metadata": {},
   "source": [
    "#### Decision Tree"
   ]
  },
  {
   "cell_type": "code",
   "execution_count": null,
   "metadata": {},
   "outputs": [
    {
     "name": "stdout",
     "output_type": "stream",
     "text": [
      "Accuracy: 0.6378342279057112\n",
      "F1 score: 0.3128402477942557\n"
     ]
    }
   ],
   "source": [
    "dt=DecisionTreeClassifier(max_depth=10,min_samples_leaf=10)\n",
    "x_train_l = x_train_l.replace((np.inf, -np.inf, np.nan), 0).reset_index(drop=True)\n",
    "y_train_l = y_train_l.replace((np.inf, -np.inf, np.nan), 0).reset_index(drop=True)\n",
    "x_val_l = x_val_l.replace((np.inf, -np.inf, np.nan), 0).reset_index(drop=True)\n",
    "dt.fit(x_train_l,y_train_l)\n",
    "y_pred_l=dt.predict(x_test_l)\n",
    "print(\"Accuracy:\",accuracy_score(y_test_l, y_pred_l))\n",
    "#print f1 score\n",
    "print(\"F1 score:\",f1_score(y_test_l, y_pred_l))"
   ]
  },
  {
   "cell_type": "markdown",
   "metadata": {},
   "source": [
    "#### Random Forest"
   ]
  },
  {
   "cell_type": "code",
   "execution_count": null,
   "metadata": {},
   "outputs": [
    {
     "name": "stdout",
     "output_type": "stream",
     "text": [
      "Accuracy: 0.6374137376635584\n",
      "F1 score: 0.3116870920786965\n"
     ]
    }
   ],
   "source": [
    "rf=RandomForestClassifier(n_estimators=100,max_depth=30,min_samples_leaf=100)\n",
    "rf.fit(x_train_l,y_train_l)\n",
    "y_pred_l=rf.predict(x_test_l)\n",
    "print(\"Accuracy:\",accuracy_score(y_test_l, y_pred_l))\n",
    "#print f1 score\n",
    "print(\"F1 score:\",f1_score(y_test_l, y_pred_l))"
   ]
  },
  {
   "cell_type": "markdown",
   "metadata": {},
   "source": [
    "#### Gradient Boosted Tree"
   ]
  },
  {
   "cell_type": "code",
   "execution_count": null,
   "metadata": {},
   "outputs": [
    {
     "name": "stdout",
     "output_type": "stream",
     "text": [
      "Accuracy: 0.6378589626258379\n",
      "F1 score: 0.3255792528444424\n"
     ]
    }
   ],
   "source": [
    "gb=GradientBoostingClassifier(n_estimators=500,max_depth=10,min_samples_leaf=100)\n",
    "gb.fit(x_train_l,y_train_l)\n",
    "y_pred_l=gb.predict(x_test_l)\n",
    "print(\"Accuracy:\",accuracy_score(y_test_l, y_pred_l))\n",
    "#print f1 score\n",
    "print(\"F1 score:\",f1_score(y_test_l, y_pred_l))"
   ]
  },
  {
   "cell_type": "markdown",
   "metadata": {},
   "source": [
    "### Common Lowercased Words"
   ]
  },
  {
   "cell_type": "code",
   "execution_count": 90,
   "metadata": {},
   "outputs": [
    {
     "name": "stderr",
     "output_type": "stream",
     "text": [
      "/var/folders/y4/yphzsd_j3hbd5rzqwpdq7x9m0000gn/T/ipykernel_28679/593163608.py:8: FutureWarning: In a future version of pandas all arguments of DataFrame.any and Series.any will be keyword-only.\n",
      "  indices_to_keep=~df.isin([np.nan, np.inf, -np.inf]).any(1)\n"
     ]
    }
   ],
   "source": [
    "# data_2.head()\n",
    "data_2 = data_2.dropna(axis=0, how='any', subset=None, inplace=False)\n",
    "data_2.drop(['id', 'qid1', 'qid2', 'question1', 'question2'], inplace=True,axis=1)\n",
    "clean_dataset(data_2)\n",
    "y_2 = data_2['is_duplicate']\n",
    "data_2.drop('is_duplicate', inplace=True,axis=1)\n",
    "x_train_2, x_test_2, y_train_2, y_test_2 = train_test_split(data_2, y_2,  test_size=0.30, random_state=25)\n",
    "x_val_2, x_test_2, y_val_2, y_test_2 = train_test_split(x_test_2, y_test_2 ,test_size=float(1/3), random_state=25)"
   ]
  },
  {
   "cell_type": "markdown",
   "metadata": {},
   "source": [
    "#### Decision Tree"
   ]
  },
  {
   "cell_type": "code",
   "execution_count": 91,
   "metadata": {},
   "outputs": [
    {
     "name": "stdout",
     "output_type": "stream",
     "text": [
      "Accuracy: 0.7038017264834648\n",
      "F1 score: 0.5364097402346019\n"
     ]
    }
   ],
   "source": [
    "dt=DecisionTreeClassifier(max_depth=10,min_samples_leaf=10)\n",
    "x_train_2 = x_train_2.replace((np.inf, -np.inf, np.nan), 0).reset_index(drop=True)\n",
    "y_train_2 = y_train_2.replace((np.inf, -np.inf, np.nan), 0).reset_index(drop=True)\n",
    "x_val_2 = x_val_2.replace((np.inf, -np.inf, np.nan), 0).reset_index(drop=True)  \n",
    "dt.fit(x_train_2,y_train_2)\n",
    "y_pred_2=dt.predict(x_test_2)\n",
    "print(\"Accuracy:\",accuracy_score(y_test_2, y_pred_2))\n",
    "#print f1 score\n",
    "print(\"F1 score:\",f1_score(y_test_2, y_pred_2))"
   ]
  },
  {
   "cell_type": "markdown",
   "metadata": {},
   "source": [
    "#### Random Forest Classifier"
   ]
  },
  {
   "cell_type": "code",
   "execution_count": null,
   "metadata": {},
   "outputs": [],
   "source": [
    "rf=RandomForestClassifier(n_estimators=100,max_depth=30,min_samples_leaf=100)\n",
    "rf.fit(x_train_2,y_train_2)\n",
    "y_pred_2=rf.predict(x_test_2)\n",
    "print(\"Accuracy:\",accuracy_score(y_test_2, y_pred_2))\n",
    "#print f1 score\n",
    "print(\"F1 score:\",f1_score(y_test_2, y_pred_2))"
   ]
  },
  {
   "cell_type": "markdown",
   "metadata": {},
   "source": [
    "### Common lowercased words excluding stopwords"
   ]
  },
  {
   "cell_type": "code",
   "execution_count": 93,
   "metadata": {},
   "outputs": [
    {
     "name": "stderr",
     "output_type": "stream",
     "text": [
      "/var/folders/y4/yphzsd_j3hbd5rzqwpdq7x9m0000gn/T/ipykernel_28679/593163608.py:8: FutureWarning: In a future version of pandas all arguments of DataFrame.any and Series.any will be keyword-only.\n",
      "  indices_to_keep=~df.isin([np.nan, np.inf, -np.inf]).any(1)\n"
     ]
    }
   ],
   "source": [
    "data3 = data_3.dropna(axis=0, how='any', subset=None, inplace=False)\n",
    "data3.drop(['id', 'qid1', 'qid2', 'question1', 'question2'], inplace=True,axis=1)\n",
    "clean_dataset(data3)\n",
    "y_3 = data3['is_duplicate']\n",
    "data3.drop('is_duplicate', inplace=True,axis=1)\n",
    "x_train_3, x_test_3, y_train_3, y_test_3 = train_test_split(data3, y_3,  test_size=0.30, random_state=25)\n",
    "x_val_3, x_test_3, y_val_3, y_test_3 = train_test_split(x_test_3, y_test_3 ,test_size=float(1/3), random_state=25)"
   ]
  },
  {
   "cell_type": "markdown",
   "metadata": {},
   "source": [
    "#### Decision Tree"
   ]
  },
  {
   "cell_type": "code",
   "execution_count": 94,
   "metadata": {},
   "outputs": [
    {
     "name": "stdout",
     "output_type": "stream",
     "text": [
      "Accuracy: 0.7038017264834648\n",
      "F1 score: 0.5364097402346019\n"
     ]
    }
   ],
   "source": [
    "dt=DecisionTreeClassifier(max_depth=10,min_samples_leaf=10)\n",
    "x_train_3 = x_train_3.replace((np.inf, -np.inf, np.nan), 0).reset_index(drop=True)\n",
    "y_train_3 = y_train_3.replace((np.inf, -np.inf, np.nan), 0).reset_index(drop=True)\n",
    "x_val_3 = x_val_3.replace((np.inf, -np.inf, np.nan), 0).reset_index(drop=True)\n",
    "dt.fit(x_train_3,y_train_3)\n",
    "y_pred_3=dt.predict(x_test_3)\n",
    "print(\"Accuracy:\",accuracy_score(y_test_3, y_pred_3))\n",
    "#print f1 score\n",
    "print(\"F1 score:\",f1_score(y_test_3, y_pred_3))"
   ]
  },
  {
   "cell_type": "markdown",
   "metadata": {},
   "source": [
    "#### Random Forest"
   ]
  },
  {
   "cell_type": "code",
   "execution_count": 95,
   "metadata": {},
   "outputs": [
    {
     "name": "stdout",
     "output_type": "stream",
     "text": [
      "Accuracy: 0.7069925053798016\n",
      "F1 score: 0.56703216374269\n"
     ]
    }
   ],
   "source": [
    "rf=RandomForestClassifier(n_estimators=100,max_depth=30,min_samples_leaf=100)\n",
    "rf.fit(x_train_3,y_train_3)\n",
    "y_pred_3=rf.predict(x_test_3)\n",
    "print(\"Accuracy:\",accuracy_score(y_test_3, y_pred_3))\n",
    "#print f1 score\n",
    "print(\"F1 score:\",f1_score(y_test_3, y_pred_3))"
   ]
  },
  {
   "cell_type": "markdown",
   "metadata": {},
   "source": [
    "#### Gradient Boosted Tree"
   ]
  },
  {
   "cell_type": "code",
   "execution_count": 96,
   "metadata": {},
   "outputs": [
    {
     "name": "stdout",
     "output_type": "stream",
     "text": [
      "Accuracy: 0.7061515248954958\n",
      "F1 score: 0.5731532049439494\n"
     ]
    }
   ],
   "source": [
    "gb=GradientBoostingClassifier(n_estimators=500,max_depth=10,min_samples_leaf=100)\n",
    "gb.fit(x_train_3,y_train_3)\n",
    "y_pred_3=gb.predict(x_test_3)\n",
    "print(\"Accuracy:\",accuracy_score(y_test_3, y_pred_3))\n",
    "#print f1 score\n",
    "print(\"F1 score:\",f1_score(y_test_3, y_pred_3))"
   ]
  },
  {
   "cell_type": "markdown",
   "metadata": {},
   "source": [
    "### Same last word"
   ]
  },
  {
   "cell_type": "code",
   "execution_count": 98,
   "metadata": {},
   "outputs": [
    {
     "name": "stderr",
     "output_type": "stream",
     "text": [
      "/var/folders/y4/yphzsd_j3hbd5rzqwpdq7x9m0000gn/T/ipykernel_28679/593163608.py:8: FutureWarning: In a future version of pandas all arguments of DataFrame.any and Series.any will be keyword-only.\n",
      "  indices_to_keep=~df.isin([np.nan, np.inf, -np.inf]).any(1)\n"
     ]
    }
   ],
   "source": [
    "data4 = data_4.dropna(axis=0, how='any', subset=None, inplace=False)\n",
    "data4.drop(['id', 'qid1', 'qid2', 'question1', 'question2'], inplace=True,axis=1)\n",
    "clean_dataset(data4)\n",
    "y_4 = data4['is_duplicate']\n",
    "data4.drop('is_duplicate', inplace=True,axis=1)\n",
    "x_train_4, x_test_4, y_train_4, y_test_4 = train_test_split(data4, y_4,  test_size=0.30, random_state=25)\n",
    "x_val_4, x_test_4, y_val_4, y_test_4 = train_test_split(x_test_4, y_test_4 ,test_size=float(1/3), random_state=25)"
   ]
  },
  {
   "cell_type": "markdown",
   "metadata": {},
   "source": [
    "#### Decision Tree"
   ]
  },
  {
   "cell_type": "code",
   "execution_count": 99,
   "metadata": {},
   "outputs": [
    {
     "name": "stdout",
     "output_type": "stream",
     "text": [
      "Accuracy: 0.703307032080932\n",
      "F1 score: 0.5318293587291675\n"
     ]
    }
   ],
   "source": [
    "dt=DecisionTreeClassifier(max_depth=10,min_samples_leaf=10)\n",
    "x_train_4 = x_train_4.replace((np.inf, -np.inf, np.nan), 0).reset_index(drop=True)\n",
    "y_train_4 = y_train_4.replace((np.inf, -np.inf, np.nan), 0).reset_index(drop=True)\n",
    "x_val_4 = x_val_4.replace((np.inf, -np.inf, np.nan), 0).reset_index(drop=True)\n",
    "dt.fit(x_train_4,y_train_4)\n",
    "y_pred_4=dt.predict(x_test_4)\n",
    "print(\"Accuracy:\",accuracy_score(y_test_4, y_pred_4))\n",
    "#print f1 score\n",
    "print(\"F1 score:\",f1_score(y_test_4, y_pred_4))"
   ]
  },
  {
   "cell_type": "markdown",
   "metadata": {},
   "source": [
    "#### Random Forest"
   ]
  },
  {
   "cell_type": "code",
   "execution_count": 100,
   "metadata": {},
   "outputs": [
    {
     "name": "stdout",
     "output_type": "stream",
     "text": [
      "Accuracy: 0.704964258329417\n",
      "F1 score: 0.5574682792906434\n"
     ]
    }
   ],
   "source": [
    "rf=RandomForestClassifier(n_estimators=100,max_depth=30,min_samples_leaf=100)\n",
    "rf.fit(x_train_4,y_train_4)\n",
    "y_pred_4=rf.predict(x_test_4)\n",
    "print(\"Accuracy:\",accuracy_score(y_test_4, y_pred_4))\n",
    "#print f1 score\n",
    "print(\"F1 score:\",f1_score(y_test_4, y_pred_4))"
   ]
  },
  {
   "cell_type": "markdown",
   "metadata": {},
   "source": [
    "#### Gradient Boosted Tree"
   ]
  },
  {
   "cell_type": "code",
   "execution_count": 101,
   "metadata": {},
   "outputs": [
    {
     "name": "stdout",
     "output_type": "stream",
     "text": [
      "Accuracy: 0.7038511959237181\n",
      "F1 score: 0.566022690202617\n"
     ]
    }
   ],
   "source": [
    "gb=GradientBoostingClassifier(n_estimators=500,max_depth=10,min_samples_leaf=100)\n",
    "gb.fit(x_train_4,y_train_4)\n",
    "y_pred_4=gb.predict(x_test_4)\n",
    "print(\"Accuracy:\",accuracy_score(y_test_4, y_pred_4))\n",
    "#print f1 score\n",
    "print(\"F1 score:\",f1_score(y_test_4, y_pred_4))"
   ]
  },
  {
   "cell_type": "markdown",
   "metadata": {},
   "source": [
    "### Number of common Capitalized Words"
   ]
  },
  {
   "cell_type": "code",
   "execution_count": 102,
   "metadata": {},
   "outputs": [
    {
     "name": "stderr",
     "output_type": "stream",
     "text": [
      "/var/folders/y4/yphzsd_j3hbd5rzqwpdq7x9m0000gn/T/ipykernel_28679/593163608.py:8: FutureWarning: In a future version of pandas all arguments of DataFrame.any and Series.any will be keyword-only.\n",
      "  indices_to_keep=~df.isin([np.nan, np.inf, -np.inf]).any(1)\n"
     ]
    }
   ],
   "source": [
    "data5 = data_5.dropna(axis=0, how='any', subset=None, inplace=False)\n",
    "data5.drop(['id', 'qid1', 'qid2', 'question1', 'question2'], inplace=True,axis=1)\n",
    "clean_dataset(data5)\n",
    "y_5 = data5['is_duplicate']\n",
    "data5.drop('is_duplicate', inplace=True,axis=1)\n",
    "x_train_5, x_test_5, y_train_5, y_test_5 = train_test_split(data5, y_5,  test_size=0.30, random_state=25)\n",
    "x_val_5, x_test_5, y_val_5, y_test_5 = train_test_split(x_test_5, y_test_5 ,test_size=float(1/3), random_state=25)"
   ]
  },
  {
   "cell_type": "markdown",
   "metadata": {},
   "source": [
    "#### Decision Tree"
   ]
  },
  {
   "cell_type": "code",
   "execution_count": 103,
   "metadata": {},
   "outputs": [
    {
     "name": "stdout",
     "output_type": "stream",
     "text": [
      "Accuracy: 0.7038017264834648\n",
      "F1 score: 0.5364097402346019\n"
     ]
    }
   ],
   "source": [
    "dt=DecisionTreeClassifier(max_depth=10,min_samples_leaf=10)\n",
    "x_train_5 = x_train_5.replace((np.inf, -np.inf, np.nan), 0).reset_index(drop=True)\n",
    "y_train_5 = y_train_5.replace((np.inf, -np.inf, np.nan), 0).reset_index(drop=True)\n",
    "x_val_5 = x_val_5.replace((np.inf, -np.inf, np.nan), 0).reset_index(drop=True)\n",
    "dt.fit(x_train_5,y_train_5)\n",
    "y_pred_5=dt.predict(x_test_5)\n",
    "print(\"Accuracy:\",accuracy_score(y_test_5, y_pred_5))\n",
    "#print f1 score\n",
    "print(\"F1 score:\",f1_score(y_test_5, y_pred_5))"
   ]
  },
  {
   "cell_type": "markdown",
   "metadata": {},
   "source": [
    "#### Random Forest"
   ]
  },
  {
   "cell_type": "code",
   "execution_count": 104,
   "metadata": {},
   "outputs": [
    {
     "name": "stdout",
     "output_type": "stream",
     "text": [
      "Accuracy: 0.7075119345024611\n",
      "F1 score: 0.5683833996422967\n"
     ]
    }
   ],
   "source": [
    "rf=RandomForestClassifier(n_estimators=100,max_depth=30,min_samples_leaf=100)\n",
    "rf.fit(x_train_5,y_train_5)\n",
    "y_pred_5=rf.predict(x_test_5)\n",
    "print(\"Accuracy:\",accuracy_score(y_test_5, y_pred_5))\n",
    "#print f1 score\n",
    "print(\"F1 score:\",f1_score(y_test_5, y_pred_5))"
   ]
  },
  {
   "cell_type": "markdown",
   "metadata": {},
   "source": [
    "#### Gradient Boosted Tree"
   ]
  },
  {
   "cell_type": "code",
   "execution_count": 105,
   "metadata": {},
   "outputs": [
    {
     "name": "stdout",
     "output_type": "stream",
     "text": [
      "Accuracy: 0.7061762596156225\n",
      "F1 score: 0.5747019440764741\n"
     ]
    }
   ],
   "source": [
    "gb=GradientBoostingClassifier(n_estimators=500,max_depth=10,min_samples_leaf=100)\n",
    "gb.fit(x_train_5,y_train_5)\n",
    "y_pred_5=gb.predict(x_test_5)\n",
    "print(\"Accuracy:\",accuracy_score(y_test_5, y_pred_5))\n",
    "#print f1 score\n",
    "print(\"F1 score:\",f1_score(y_test_5, y_pred_5))"
   ]
  },
  {
   "cell_type": "markdown",
   "metadata": {},
   "source": [
    "### Commmon prefixes"
   ]
  },
  {
   "cell_type": "code",
   "execution_count": 107,
   "metadata": {},
   "outputs": [
    {
     "name": "stderr",
     "output_type": "stream",
     "text": [
      "/var/folders/y4/yphzsd_j3hbd5rzqwpdq7x9m0000gn/T/ipykernel_28679/593163608.py:8: FutureWarning: In a future version of pandas all arguments of DataFrame.any and Series.any will be keyword-only.\n",
      "  indices_to_keep=~df.isin([np.nan, np.inf, -np.inf]).any(1)\n"
     ]
    }
   ],
   "source": [
    "data6 = data_6.dropna(axis=0, how='any', subset=None, inplace=False)\n",
    "data6.drop(['id', 'qid1', 'qid2', 'question1', 'question2'], inplace=True,axis=1)\n",
    "clean_dataset(data6)\n",
    "y_6 = data6['is_duplicate']\n",
    "data6.drop('is_duplicate', inplace=True,axis=1)\n",
    "x_train_6, x_test_6, y_train_6, y_test_6 = train_test_split(data6, y_6,  test_size=0.30, random_state=25)\n",
    "x_val_6, x_test_6, y_val_6, y_test_6 = train_test_split(x_test_6, y_test_6 ,test_size=float(1/3), random_state=25)"
   ]
  },
  {
   "cell_type": "markdown",
   "metadata": {},
   "source": [
    "#### Decision Tree"
   ]
  },
  {
   "cell_type": "code",
   "execution_count": 108,
   "metadata": {},
   "outputs": [
    {
     "name": "stdout",
     "output_type": "stream",
     "text": [
      "Accuracy: 0.7195577432041357\n",
      "F1 score: 0.6162334145681018\n"
     ]
    }
   ],
   "source": [
    "dt=DecisionTreeClassifier(max_depth=10,min_samples_leaf=10)\n",
    "x_train_6 = x_train_6.replace((np.inf, -np.inf, np.nan), 0).reset_index(drop=True)\n",
    "y_train_6 = y_train_6.replace((np.inf, -np.inf, np.nan), 0).reset_index(drop=True)\n",
    "x_val_6 = x_val_6.replace((np.inf, -np.inf, np.nan), 0).reset_index(drop=True)\n",
    "dt.fit(x_train_6,y_train_6)\n",
    "y_pred_6=dt.predict(x_test_6)\n",
    "print(\"Accuracy:\",accuracy_score(y_test_6, y_pred_6))\n",
    "#print f1 score\n",
    "print(\"F1 score:\",f1_score(y_test_6, y_pred_6))"
   ]
  },
  {
   "cell_type": "markdown",
   "metadata": {},
   "source": [
    "#### Random Forest"
   ]
  },
  {
   "cell_type": "code",
   "execution_count": 109,
   "metadata": {},
   "outputs": [
    {
     "name": "stdout",
     "output_type": "stream",
     "text": [
      "Accuracy: 0.7328402879121423\n",
      "F1 score: 0.6233829631437637\n"
     ]
    }
   ],
   "source": [
    "rf=RandomForestClassifier(n_estimators=100,max_depth=30,min_samples_leaf=100)\n",
    "rf.fit(x_train_6,y_train_6)\n",
    "y_pred_6=rf.predict(x_test_6)\n",
    "print(\"Accuracy:\",accuracy_score(y_test_6, y_pred_6))\n",
    "#print f1 score\n",
    "print(\"F1 score:\",f1_score(y_test_6, y_pred_6))"
   ]
  },
  {
   "cell_type": "markdown",
   "metadata": {},
   "source": [
    "#### Gradient Boosted Tree"
   ]
  },
  {
   "cell_type": "code",
   "execution_count": 110,
   "metadata": {},
   "outputs": [
    {
     "name": "stdout",
     "output_type": "stream",
     "text": [
      "Accuracy: 0.7408296025130475\n",
      "F1 score: 0.644355440906931\n"
     ]
    }
   ],
   "source": [
    "gb=GradientBoostingClassifier(n_estimators=500,max_depth=10,min_samples_leaf=100)\n",
    "gb.fit(x_train_6,y_train_6)\n",
    "y_pred_6=gb.predict(x_test_6)\n",
    "print(\"Accuracy:\",accuracy_score(y_test_6, y_pred_6))\n",
    "#print f1 score\n",
    "print(\"F1 score:\",f1_score(y_test_6, y_pred_6))"
   ]
  },
  {
   "cell_type": "markdown",
   "metadata": {},
   "source": [
    "### Misc Features"
   ]
  },
  {
   "cell_type": "code",
   "execution_count": 112,
   "metadata": {},
   "outputs": [
    {
     "name": "stderr",
     "output_type": "stream",
     "text": [
      "/var/folders/y4/yphzsd_j3hbd5rzqwpdq7x9m0000gn/T/ipykernel_28679/593163608.py:8: FutureWarning: In a future version of pandas all arguments of DataFrame.any and Series.any will be keyword-only.\n",
      "  indices_to_keep=~df.isin([np.nan, np.inf, -np.inf]).any(1)\n"
     ]
    }
   ],
   "source": [
    "data7 = data_7.dropna(axis=0, how='any', subset=None, inplace=False)\n",
    "data7.drop(['id', 'qid1', 'qid2', 'question1', 'question2'], inplace=True,axis=1)\n",
    "clean_dataset(data7)\n",
    "y_7 = data7['is_duplicate']\n",
    "data7.drop('is_duplicate', inplace=True,axis=1)\n",
    "x_train_7, x_test_7, y_train_7, y_test_7 = train_test_split(data7, y_7,  test_size=0.30, random_state=25)\n",
    "x_val_7, x_test_7, y_val_7, y_test_7 = train_test_split(x_test_7, y_test_7 ,test_size=float(1/3), random_state=25)"
   ]
  },
  {
   "cell_type": "markdown",
   "metadata": {},
   "source": [
    "#### Decision Tree"
   ]
  },
  {
   "cell_type": "code",
   "execution_count": 113,
   "metadata": {},
   "outputs": [
    {
     "name": "stdout",
     "output_type": "stream",
     "text": [
      "Accuracy: 0.7250488510722501\n",
      "F1 score: 0.6162132302168208\n"
     ]
    }
   ],
   "source": [
    "dt=DecisionTreeClassifier(max_depth=10,min_samples_leaf=10)\n",
    "x_train_7 = x_train_7.replace((np.inf, -np.inf, np.nan), 0).reset_index(drop=True)\n",
    "y_train_7 = y_train_7.replace((np.inf, -np.inf, np.nan), 0).reset_index(drop=True)\n",
    "x_val_7 = x_val_7.replace((np.inf, -np.inf, np.nan), 0).reset_index(drop=True)\n",
    "dt.fit(x_train_7,y_train_7)\n",
    "y_pred_7=dt.predict(x_test_7)\n",
    "print(\"Accuracy:\",accuracy_score(y_test_7, y_pred_7))\n",
    "#print f1 score\n",
    "print(\"F1 score:\",f1_score(y_test_7, y_pred_7))"
   ]
  },
  {
   "cell_type": "markdown",
   "metadata": {},
   "source": [
    "#### Random Forest"
   ]
  },
  {
   "cell_type": "code",
   "execution_count": 114,
   "metadata": {},
   "outputs": [
    {
     "name": "stdout",
     "output_type": "stream",
     "text": [
      "Accuracy: 0.7365257612110119\n",
      "F1 score: 0.6277346753337527\n"
     ]
    }
   ],
   "source": [
    "rf=RandomForestClassifier(n_estimators=100,max_depth=30,min_samples_leaf=100)\n",
    "rf.fit(x_train_7,y_train_7)\n",
    "y_pred_7=rf.predict(x_test_7)\n",
    "print(\"Accuracy:\",accuracy_score(y_test_7, y_pred_7))\n",
    "#print f1 score\n",
    "print(\"F1 score:\",f1_score(y_test_7, y_pred_7))"
   ]
  },
  {
   "cell_type": "markdown",
   "metadata": {},
   "source": [
    "#### Gradient Boosted Tree"
   ]
  },
  {
   "cell_type": "code",
   "execution_count": 115,
   "metadata": {},
   "outputs": [
    {
     "name": "stdout",
     "output_type": "stream",
     "text": [
      "Accuracy: 0.7482500185510401\n",
      "F1 score: 0.6595758913639708\n"
     ]
    }
   ],
   "source": [
    "gb=GradientBoostingClassifier(n_estimators=500,max_depth=10,min_samples_leaf=100)\n",
    "gb.fit(x_train_7,y_train_7)\n",
    "y_pred_7=gb.predict(x_test_7)\n",
    "print(\"Accuracy:\",accuracy_score(y_test_7, y_pred_7))\n",
    "#print f1 score\n",
    "print(\"F1 score:\",f1_score(y_test_7, y_pred_7))"
   ]
  }
 ],
 "metadata": {
  "kernelspec": {
   "display_name": "Python 3.9.13 64-bit ('3.9.13')",
   "language": "python",
   "name": "python3"
  },
  "language_info": {
   "codemirror_mode": {
    "name": "ipython",
    "version": 3
   },
   "file_extension": ".py",
   "mimetype": "text/x-python",
   "name": "python",
   "nbconvert_exporter": "python",
   "pygments_lexer": "ipython3",
   "version": "3.9.13"
  },
  "orig_nbformat": 4,
  "vscode": {
   "interpreter": {
    "hash": "f41c49a37b4cb3062a0a8a444e02de43de218a1a5aeb2bbc8c7b02ec73503f26"
   }
  }
 },
 "nbformat": 4,
 "nbformat_minor": 2
}
