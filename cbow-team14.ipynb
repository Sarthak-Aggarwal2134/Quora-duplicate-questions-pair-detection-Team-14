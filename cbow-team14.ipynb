{
 "cells": [
  {
   "cell_type": "code",
   "execution_count": 2,
   "id": "8ca79fa1",
   "metadata": {
    "_cell_guid": "b1076dfc-b9ad-4769-8c92-a6c4dae69d19",
    "_uuid": "8f2839f25d086af736a60e9eeb907d3b93b6e0e5",
    "execution": {
     "iopub.execute_input": "2021-12-05T06:41:42.716152Z",
     "iopub.status.busy": "2021-12-05T06:41:42.714638Z",
     "iopub.status.idle": "2021-12-05T06:41:47.285389Z",
     "shell.execute_reply": "2021-12-05T06:41:47.284775Z",
     "shell.execute_reply.started": "2021-12-05T06:28:02.081372Z"
    },
    "papermill": {
     "duration": 4.588331,
     "end_time": "2021-12-05T06:41:47.285538",
     "exception": false,
     "start_time": "2021-12-05T06:41:42.697207",
     "status": "completed"
    },
    "tags": []
   },
   "outputs": [],
   "source": [
    "import pandas as pd\n",
    "import numpy as np\n",
    "from tqdm import tqdm\n",
    "import tensorflow as tf\n",
    "from gensim.models import KeyedVectors\n",
    "import gensim\n",
    "import re\n",
    "from sklearn.metrics import f1_score\n",
    "import matplotlib.pyplot as plt"
   ]
  },
  {
   "cell_type": "code",
   "execution_count": 3,
   "id": "57d8136d",
   "metadata": {
    "execution": {
     "iopub.execute_input": "2021-12-05T06:41:47.314041Z",
     "iopub.status.busy": "2021-12-05T06:41:47.313448Z",
     "iopub.status.idle": "2021-12-05T06:41:48.775380Z",
     "shell.execute_reply": "2021-12-05T06:41:48.774838Z",
     "shell.execute_reply.started": "2021-12-05T06:28:06.599367Z"
    },
    "papermill": {
     "duration": 1.478299,
     "end_time": "2021-12-05T06:41:48.775521",
     "exception": false,
     "start_time": "2021-12-05T06:41:47.297222",
     "status": "completed"
    },
    "tags": []
   },
   "outputs": [
    {
     "data": {
      "image/png": "[encoded data removed]",
      "text/plain": [
       "<Figure size 432x288 with 1 Axes>"
      ]
     },
     "metadata": {
      "needs_background": "light"
     },
     "output_type": "display_data"
    },
    {
     "data": {
      "image/png": "[encoded data removed]",
      "text/plain": [
       "<Figure size 432x288 with 1 Axes>"
      ]
     },
     "metadata": {
      "needs_background": "light"
     },
     "output_type": "display_data"
    }
   ],
   "source": [
    "train = pd.read_csv('../quora-question-pairs/train.csv')\n",
    "train = train.fillna('')\n",
    "plt.hist(train['question1'].apply(lambda x: len(x.split())), bins=50, alpha=0.5, label='question1')\n",
    "plt.title('Distribution of the length of the questions')\n",
    "plt.xlabel('Length of the questions')\n",
    "plt.ylabel('Number of questions')\n",
    "plt.legend(['question1', 'question2'])\n",
    "plt.show()\n",
    "\n",
    "plt.hist(train['is_duplicate'], bins=50)\n",
    "plt.title('Distribution of the is_duplicate')\n",
    "plt.xlabel('is_duplicate')\n",
    "plt.ylabel('Number of questions')\n",
    "plt.legend(['is_duplicate'])\n",
    "plt.show()"
   ]
  },
  {
   "cell_type": "code",
   "execution_count": 4,
   "id": "a1e65c82",
   "metadata": {},
   "outputs": [
    {
     "name": "stdout",
     "output_type": "stream",
     "text": [
      "Bias in the is_duplicate tag:  0.369197853026293\n",
      "Variance in the is_duplicate tag:  0.23289137439736537\n"
     ]
    }
   ],
   "source": [
    "bias = train['is_duplicate'].sum() / len(train['is_duplicate'])\n",
    "print('Bias in the is_duplicate tag: ', bias)\n",
    "variance = train['is_duplicate'].var()\n",
    "print('Variance in the is_duplicate tag: ', variance)"
   ]
  },
  {
   "cell_type": "code",
   "execution_count": 5,
   "id": "a2973276",
   "metadata": {},
   "outputs": [],
   "source": [
    "train = train[:60000]\n",
    "train, test, val = np.split(train.sample(frac=1), [int(.7*len(train)), int(.9*len(train))])"
   ]
  },
  {
   "cell_type": "code",
   "execution_count": 6,
   "id": "0fb8cffe",
   "metadata": {
    "execution": {
     "iopub.execute_input": "2021-12-05T06:41:48.800775Z",
     "iopub.status.busy": "2021-12-05T06:41:48.799943Z",
     "iopub.status.idle": "2021-12-05T06:41:48.804283Z",
     "shell.execute_reply": "2021-12-05T06:41:48.803802Z",
     "shell.execute_reply.started": "2021-12-05T06:28:07.887882Z"
    },
    "papermill": {
     "duration": 0.017602,
     "end_time": "2021-12-05T06:41:48.804397",
     "exception": false,
     "start_time": "2021-12-05T06:41:48.786795",
     "status": "completed"
    },
    "tags": []
   },
   "outputs": [
    {
     "data": {
      "text/html": [
       "<div>\n",
       "<style scoped>\n",
       "    .dataframe tbody tr th:only-of-type {\n",
       "        vertical-align: middle;\n",
       "    }\n",
       "\n",
       "    .dataframe tbody tr th {\n",
       "        vertical-align: top;\n",
       "    }\n",
       "\n",
       "    .dataframe thead th {\n",
       "        text-align: right;\n",
       "    }\n",
       "</style>\n",
       "<table border=\"1\" class=\"dataframe\">\n",
       "  <thead>\n",
       "    <tr style=\"text-align: right;\">\n",
       "      <th></th>\n",
       "      <th>id</th>\n",
       "      <th>qid1</th>\n",
       "      <th>qid2</th>\n",
       "      <th>question1</th>\n",
       "      <th>question2</th>\n",
       "      <th>is_duplicate</th>\n",
       "    </tr>\n",
       "  </thead>\n",
       "  <tbody>\n",
       "    <tr>\n",
       "      <th>4696</th>\n",
       "      <td>4696</td>\n",
       "      <td>9275</td>\n",
       "      <td>9276</td>\n",
       "      <td>What's 1 popular or rock song that's in 3/4 time?</td>\n",
       "      <td>What's one popular or rock song that's in 3/4 ...</td>\n",
       "      <td>1</td>\n",
       "    </tr>\n",
       "    <tr>\n",
       "      <th>13876</th>\n",
       "      <td>13876</td>\n",
       "      <td>26611</td>\n",
       "      <td>26612</td>\n",
       "      <td>How do I know my talents?</td>\n",
       "      <td>How could I know what my talents are?</td>\n",
       "      <td>1</td>\n",
       "    </tr>\n",
       "    <tr>\n",
       "      <th>46105</th>\n",
       "      <td>46105</td>\n",
       "      <td>31886</td>\n",
       "      <td>82505</td>\n",
       "      <td>Will India and Pakistan get along one day?</td>\n",
       "      <td>Is there anything I could do to help India and...</td>\n",
       "      <td>0</td>\n",
       "    </tr>\n",
       "    <tr>\n",
       "      <th>37846</th>\n",
       "      <td>37846</td>\n",
       "      <td>68808</td>\n",
       "      <td>68809</td>\n",
       "      <td>What software should I use for creating infogr...</td>\n",
       "      <td>What language should I use to create software?</td>\n",
       "      <td>0</td>\n",
       "    </tr>\n",
       "    <tr>\n",
       "      <th>44703</th>\n",
       "      <td>44703</td>\n",
       "      <td>80205</td>\n",
       "      <td>80206</td>\n",
       "      <td>Which is the best furniture shop in raipur?</td>\n",
       "      <td>What are some good furniture shops in secunder...</td>\n",
       "      <td>0</td>\n",
       "    </tr>\n",
       "  </tbody>\n",
       "</table>\n",
       "</div>"
      ],
      "text/plain": [
       "          id   qid1   qid2                                          question1  \\\n",
       "4696    4696   9275   9276  What's 1 popular or rock song that's in 3/4 time?   \n",
       "13876  13876  26611  26612                          How do I know my talents?   \n",
       "46105  46105  31886  82505         Will India and Pakistan get along one day?   \n",
       "37846  37846  68808  68809  What software should I use for creating infogr...   \n",
       "44703  44703  80205  80206        Which is the best furniture shop in raipur?   \n",
       "\n",
       "                                               question2  is_duplicate  \n",
       "4696   What's one popular or rock song that's in 3/4 ...             1  \n",
       "13876              How could I know what my talents are?             1  \n",
       "46105  Is there anything I could do to help India and...             0  \n",
       "37846     What language should I use to create software?             0  \n",
       "44703  What are some good furniture shops in secunder...             0  "
      ]
     },
     "execution_count": 6,
     "metadata": {},
     "output_type": "execute_result"
    }
   ],
   "source": [
    "word2vec_file = '../quora-question-pairs/archive/GoogleNews-vectors-negative300.bin'\n",
    "train.head()"
   ]
  },
  {
   "cell_type": "code",
   "execution_count": 7,
   "id": "f04b1bb5",
   "metadata": {},
   "outputs": [
    {
     "data": {
      "image/png": "[encoded data removed]",
      "text/plain": [
       "<Figure size 432x288 with 1 Axes>"
      ]
     },
     "metadata": {
      "needs_background": "light"
     },
     "output_type": "display_data"
    },
    {
     "data": {
      "image/png": "[encoded data removed]",
      "text/plain": [
       "<Figure size 432x288 with 1 Axes>"
      ]
     },
     "metadata": {
      "needs_background": "light"
     },
     "output_type": "display_data"
    }
   ],
   "source": [
    "plt.hist(train['question1'].apply(lambda x: len(x.split())), bins=50, alpha=0.5, label='question1')\n",
    "plt.title('Distribution of the length of the questions')\n",
    "plt.xlabel('Length of the questions')\n",
    "plt.ylabel('Number of questions')\n",
    "plt.legend(['question1', 'question2'])\n",
    "plt.show()\n",
    "\n",
    "plt.hist(train['is_duplicate'], bins=50)\n",
    "plt.title('Distribution of the is_duplicate')\n",
    "plt.xlabel('is_duplicate')\n",
    "plt.ylabel('Number of questions')\n",
    "plt.legend(['is_duplicate'])\n",
    "plt.show()\n"
   ]
  },
  {
   "cell_type": "code",
   "execution_count": 8,
   "id": "bb669b56",
   "metadata": {},
   "outputs": [
    {
     "name": "stdout",
     "output_type": "stream",
     "text": [
      "Bias in the is_duplicate tag:  0.3730476190476191\n",
      "Variance in the is_duplicate tag:  0.2338886617481822\n"
     ]
    }
   ],
   "source": [
    "bias = train['is_duplicate'].sum() / len(train['is_duplicate'])\n",
    "print('Bias in the is_duplicate tag: ', bias)\n",
    "variance = train['is_duplicate'].var()\n",
    "print('Variance in the is_duplicate tag: ', variance)"
   ]
  },
  {
   "cell_type": "code",
   "execution_count": 9,
   "id": "e183a4fe",
   "metadata": {
    "execution": {
     "iopub.execute_input": "2021-12-05T06:41:48.876516Z",
     "iopub.status.busy": "2021-12-05T06:41:48.875896Z",
     "iopub.status.idle": "2021-12-05T06:42:50.921199Z",
     "shell.execute_reply": "2021-12-05T06:42:50.920691Z",
     "shell.execute_reply.started": "2021-12-05T06:28:07.919112Z"
    },
    "papermill": {
     "duration": 62.06346,
     "end_time": "2021-12-05T06:42:50.921351",
     "exception": false,
     "start_time": "2021-12-05T06:41:48.857891",
     "status": "completed"
    },
    "tags": []
   },
   "outputs": [],
   "source": [
    "def Vocab(str):\n",
    "    tokenizer = tf.keras.preprocessing.text.Tokenizer(lower=False, split=' ')\n",
    "    tokenizer.fit_on_texts(str)\n",
    "    return tokenizer\n",
    "\n",
    "word2vec_model = KeyedVectors.load_word2vec_format(word2vec_file, binary = True)"
   ]
  },
  {
   "cell_type": "code",
   "execution_count": 10,
   "id": "99b849cc",
   "metadata": {},
   "outputs": [],
   "source": [
    "def SeqExt(str, tokenizer, seq_maxlen):\n",
    "    reviews_seq = tokenizer.texts_to_sequences(str)\n",
    "    arr = tf.keras.preprocessing.sequence.pad_sequences(reviews_seq, maxlen=seq_maxlen, padding='post')\n",
    "    arr = np.array(arr)\n",
    "    return arr"
   ]
  },
  {
   "cell_type": "code",
   "execution_count": 11,
   "id": "40a3ebc0",
   "metadata": {
    "execution": {
     "iopub.execute_input": "2021-12-05T06:42:50.974813Z",
     "iopub.status.busy": "2021-12-05T06:42:50.963194Z",
     "iopub.status.idle": "2021-12-05T06:43:04.692817Z",
     "shell.execute_reply": "2021-12-05T06:43:04.691844Z",
     "shell.execute_reply.started": "2021-12-05T06:29:09.661554Z"
    },
    "papermill": {
     "duration": 13.76014,
     "end_time": "2021-12-05T06:43:04.692993",
     "exception": false,
     "start_time": "2021-12-05T06:42:50.932853",
     "status": "completed"
    },
    "tags": []
   },
   "outputs": [
    {
     "name": "stdout",
     "output_type": "stream",
     "text": [
      "46728\n"
     ]
    }
   ],
   "source": [
    "str = train['question1'].tolist()\n",
    "str = str + train['question2'].tolist()\n",
    "str = str + test['question1'].tolist()\n",
    "str = str + test['question2'].tolist()\n",
    "str = str + val['question1'].tolist()\n",
    "str = str + val['question2'].tolist()\n",
    "\n",
    "tokenizer = Vocab(str)\n",
    "vocab_size = len(tokenizer.word_index)\n",
    "vocab_size += 1\n",
    "print(vocab_size)\n",
    "\n",
    "x_train1 = SeqExt(train['question1'], tokenizer, 200)\n",
    "x_train2 = SeqExt(train['question2'], tokenizer, 200)\n",
    "y_train = tf.keras.utils.to_categorical(train['is_duplicate'])\n",
    "\n",
    "x_test1 = SeqExt(test['question1'], tokenizer, 200)\n",
    "x_test2 = SeqExt(test['question2'], tokenizer, 200)\n",
    "y_test = tf.keras.utils.to_categorical(test['is_duplicate'])\n",
    "\n",
    "x_val1 = SeqExt(val['question1'], tokenizer, 200)\n",
    "x_val2 = SeqExt(val['question2'], tokenizer, 200)\n",
    "y_val = tf.keras.utils.to_categorical(val['is_duplicate'])"
   ]
  },
  {
   "cell_type": "code",
   "execution_count": 12,
   "id": "0800ff08",
   "metadata": {},
   "outputs": [],
   "source": [
    "def EmbedMat(word2idx):    \n",
    "    embedding_matrix = np.zeros((len(word2idx)+1, 300))\n",
    "    for word, i in tqdm(word2idx.items()):\n",
    "        embedding_vector = word2vec_model[word] if word in word2vec_model else np.random.rand(1,300)\n",
    "        if embedding_vector is not None:\n",
    "            embedding_matrix[i] = embedding_vector\n",
    "    return embedding_matrix\n"
   ]
  },
  {
   "cell_type": "code",
   "execution_count": 13,
   "id": "61abd026",
   "metadata": {
    "execution": {
     "iopub.execute_input": "2021-12-05T06:43:04.722083Z",
     "iopub.status.busy": "2021-12-05T06:43:04.721506Z",
     "iopub.status.idle": "2021-12-05T06:43:05.183883Z",
     "shell.execute_reply": "2021-12-05T06:43:05.182396Z",
     "shell.execute_reply.started": "2021-12-05T06:29:22.925663Z"
    },
    "papermill": {
     "duration": 0.478999,
     "end_time": "2021-12-05T06:43:05.184024",
     "exception": false,
     "start_time": "2021-12-05T06:43:04.705025",
     "status": "completed"
    },
    "tags": []
   },
   "outputs": [
    {
     "name": "stderr",
     "output_type": "stream",
     "text": [
      "100%|██████████| 46727/46727 [00:00<00:00, 97078.56it/s]"
     ]
    },
    {
     "name": "stdout",
     "output_type": "stream",
     "text": [
      "(46728, 300)\n"
     ]
    },
    {
     "name": "stderr",
     "output_type": "stream",
     "text": [
      "\n"
     ]
    }
   ],
   "source": [
    "embedmat = EmbedMat(tokenizer.word_index)\n",
    "print(embedmat.shape)"
   ]
  },
  {
   "cell_type": "code",
   "execution_count": 15,
   "id": "59b405dc",
   "metadata": {
    "execution": {
     "iopub.execute_input": "2021-12-05T06:43:05.221581Z",
     "iopub.status.busy": "2021-12-05T06:43:05.221015Z",
     "iopub.status.idle": "2021-12-05T06:43:07.840042Z",
     "shell.execute_reply": "2021-12-05T06:43:07.839136Z",
     "shell.execute_reply.started": "2021-12-05T06:29:23.399993Z"
    },
    "papermill": {
     "duration": 2.642422,
     "end_time": "2021-12-05T06:43:07.840177",
     "exception": false,
     "start_time": "2021-12-05T06:43:05.197755",
     "status": "completed"
    },
    "tags": []
   },
   "outputs": [],
   "source": [
    "i1 = tf.keras.Input(shape=(x_train1.shape[1],))\n",
    "i2 = tf.keras.Input(shape=(x_train2.shape[1],))\n",
    "\n",
    "inner1= tf.keras.layers.Embedding(input_dim=embedmat.shape[0], output_dim=embedmat.shape[1], input_length=200, \n",
    "                                  weights=[embedmat], trainable=True)(i1)\n",
    "inner2= tf.keras.layers.Embedding(input_dim=embedmat.shape[0], output_dim=embedmat.shape[1], input_length=200,\n",
    "                                  weights=[embedmat], trainable=True)(i2)\n",
    "\n",
    "inner1 = tf.keras.backend.sum(inner1, axis=1, keepdims=False)\n",
    "inner = inner1\n",
    "inner2 = tf.keras.backend.sum(inner2, axis=1, keepdims=False)\n",
    "inner = inner+inner2\n",
    "\n",
    "sz = [200, 120, 60, 2]\n",
    "funInp = 'relu'\n",
    "funOut = 'softmax'\n",
    "inner = tf.keras.layers.Dense(sz[0], activation = funInp, kernel_regularizer = tf.keras.regularizers.l2(l2=0.01))(inner)\n",
    "inner = tf.keras.layers.Dropout(0.1)(inner)\n",
    "inner = tf.keras.layers.Dense(sz[1], activation = funInp, kernel_regularizer = tf.keras.regularizers.l2(l2=0.01))(inner)\n",
    "inner = tf.keras.layers.Dropout(0.1)(inner)\n",
    "inner = tf.keras.layers.Dense(sz[2], activation = funInp, kernel_regularizer = tf.keras.regularizers.l2(l2=0.01))(inner)\n",
    "inner = tf.keras.layers.Dropout(0.1)(inner)\n",
    "output = tf.keras.layers.Dense(sz[3], activation=funOut)(inner)\n",
    "\n",
    "model = tf.keras.Model(inputs = [i1, i2], outputs = output)"
   ]
  },
  {
   "cell_type": "code",
   "execution_count": 16,
   "id": "7eab1687",
   "metadata": {
    "execution": {
     "iopub.execute_input": "2021-12-05T06:43:07.876275Z",
     "iopub.status.busy": "2021-12-05T06:43:07.875614Z",
     "iopub.status.idle": "2021-12-05T06:43:07.891008Z",
     "shell.execute_reply": "2021-12-05T06:43:07.890387Z",
     "shell.execute_reply.started": "2021-12-05T06:29:26.103961Z"
    },
    "papermill": {
     "duration": 0.036541,
     "end_time": "2021-12-05T06:43:07.891138",
     "exception": false,
     "start_time": "2021-12-05T06:43:07.854597",
     "status": "completed"
    },
    "tags": []
   },
   "outputs": [
    {
     "name": "stdout",
     "output_type": "stream",
     "text": [
      "Model: \"model_1\"\n",
      "__________________________________________________________________________________________________\n",
      " Layer (type)                   Output Shape         Param #     Connected to                     \n",
      "==================================================================================================\n",
      " input_3 (InputLayer)           [(None, 200)]        0           []                               \n",
      "                                                                                                  \n",
      " input_4 (InputLayer)           [(None, 200)]        0           []                               \n",
      "                                                                                                  \n",
      " embedding_2 (Embedding)        (None, 200, 300)     14018400    ['input_3[0][0]']                \n",
      "                                                                                                  \n",
      " embedding_3 (Embedding)        (None, 200, 300)     14018400    ['input_4[0][0]']                \n",
      "                                                                                                  \n",
      " tf.math.reduce_sum_2 (TFOpLamb  (None, 300)         0           ['embedding_2[0][0]']            \n",
      " da)                                                                                              \n",
      "                                                                                                  \n",
      " tf.math.reduce_sum_3 (TFOpLamb  (None, 300)         0           ['embedding_3[0][0]']            \n",
      " da)                                                                                              \n",
      "                                                                                                  \n",
      " tf.__operators__.add_1 (TFOpLa  (None, 300)         0           ['tf.math.reduce_sum_2[0][0]',   \n",
      " mbda)                                                            'tf.math.reduce_sum_3[0][0]']   \n",
      "                                                                                                  \n",
      " dense_4 (Dense)                (None, 200)          60200       ['tf.__operators__.add_1[0][0]'] \n",
      "                                                                                                  \n",
      " dropout_3 (Dropout)            (None, 200)          0           ['dense_4[0][0]']                \n",
      "                                                                                                  \n",
      " dense_5 (Dense)                (None, 120)          24120       ['dropout_3[0][0]']              \n",
      "                                                                                                  \n",
      " dropout_4 (Dropout)            (None, 120)          0           ['dense_5[0][0]']                \n",
      "                                                                                                  \n",
      " dense_6 (Dense)                (None, 60)           7260        ['dropout_4[0][0]']              \n",
      "                                                                                                  \n",
      " dropout_5 (Dropout)            (None, 60)           0           ['dense_6[0][0]']                \n",
      "                                                                                                  \n",
      " dense_7 (Dense)                (None, 2)            122         ['dropout_5[0][0]']              \n",
      "                                                                                                  \n",
      "==================================================================================================\n",
      "Total params: 28,128,502\n",
      "Trainable params: 28,128,502\n",
      "Non-trainable params: 0\n",
      "__________________________________________________________________________________________________\n"
     ]
    }
   ],
   "source": [
    "model.compile(optimizer = \"adam\", loss = 'binary_crossentropy', metrics=['accuracy'])\n",
    "model.summary()"
   ]
  },
  {
   "cell_type": "code",
   "execution_count": 17,
   "id": "0aae2f11",
   "metadata": {
    "execution": {
     "iopub.execute_input": "2021-12-05T06:43:07.925895Z",
     "iopub.status.busy": "2021-12-05T06:43:07.925115Z",
     "iopub.status.idle": "2021-12-05T06:44:04.257889Z",
     "shell.execute_reply": "2021-12-05T06:44:04.258447Z",
     "shell.execute_reply.started": "2021-12-05T06:29:26.126805Z"
    },
    "papermill": {
     "duration": 56.353085,
     "end_time": "2021-12-05T06:44:04.258638",
     "exception": false,
     "start_time": "2021-12-05T06:43:07.905553",
     "status": "completed"
    },
    "tags": []
   },
   "outputs": [
    {
     "name": "stdout",
     "output_type": "stream",
     "text": [
      "Epoch 1/4\n",
      "657/657 [==============================] - 294s 442ms/step - loss: 1.1692 - accuracy: 0.6783 - val_loss: 0.5927 - val_accuracy: 0.7082\n",
      "Epoch 2/4\n",
      "657/657 [==============================] - 372s 566ms/step - loss: 0.5279 - accuracy: 0.7542 - val_loss: 0.5457 - val_accuracy: 0.7427\n",
      "Epoch 3/4\n",
      "657/657 [==============================] - 355s 541ms/step - loss: 0.4634 - accuracy: 0.7927 - val_loss: 0.5882 - val_accuracy: 0.7038\n",
      "Epoch 4/4\n",
      "657/657 [==============================] - 357s 544ms/step - loss: 0.4097 - accuracy: 0.8275 - val_loss: 0.6997 - val_accuracy: 0.7255\n"
     ]
    }
   ],
   "source": [
    "save_weights = tf.keras.callbacks.ModelCheckpoint('cbow.h5', monitor='val_loss', save_best_only=True)\n",
    "checkpoint_filepath = 'weights.best.{epoch:01d}.hdf5'\n",
    "\n",
    "history = model.fit((x_train1, x_train2), y_train,\n",
    "                    batch_size = 64,\n",
    "                    validation_data = ((x_val1, x_val2), y_val),\n",
    "                    validation_batch_size = 64,\n",
    "                    epochs=4, \n",
    "                    callbacks=[save_weights], \n",
    "                    verbose=1)"
   ]
  },
  {
   "cell_type": "code",
   "execution_count": 18,
   "id": "6195ba4e",
   "metadata": {
    "execution": {
     "iopub.execute_input": "2021-12-05T06:44:05.863472Z",
     "iopub.status.busy": "2021-12-05T06:44:05.862509Z",
     "iopub.status.idle": "2021-12-05T06:44:28.229271Z",
     "shell.execute_reply": "2021-12-05T06:44:28.229695Z",
     "shell.execute_reply.started": "2021-12-05T06:40:02.762209Z"
    },
    "papermill": {
     "duration": 22.559635,
     "end_time": "2021-12-05T06:44:28.229842",
     "exception": false,
     "start_time": "2021-12-05T06:44:05.670207",
     "status": "completed"
    },
    "tags": []
   },
   "outputs": [
    {
     "name": "stdout",
     "output_type": "stream",
     "text": [
      "3000/3000 [==============================] - 15s 5ms/step - loss: 0.7404 - accuracy: 0.7134\n",
      "Loss : 0.7404208183288574\n",
      "Accuracy : 0.7134166955947876\n"
     ]
    },
    {
     "data": {
      "text/plain": [
       "(None, None)"
      ]
     },
     "execution_count": 18,
     "metadata": {},
     "output_type": "execute_result"
    }
   ],
   "source": [
    "loss, accuracy = model.evaluate((x_test1, x_test2), y_test, batch_size=4, verbose=1)\n",
    "print('Loss :', loss), print('Accuracy :', accuracy)"
   ]
  },
  {
   "cell_type": "code",
   "execution_count": 19,
   "id": "3d4078c0",
   "metadata": {
    "execution": {
     "iopub.execute_input": "2021-12-05T06:44:28.830291Z",
     "iopub.status.busy": "2021-12-05T06:44:28.829339Z",
     "iopub.status.idle": "2021-12-05T06:44:31.520669Z",
     "shell.execute_reply": "2021-12-05T06:44:31.521533Z",
     "shell.execute_reply.started": "2021-12-05T06:40:27.475503Z"
    },
    "papermill": {
     "duration": 2.995351,
     "end_time": "2021-12-05T06:44:31.521775",
     "exception": false,
     "start_time": "2021-12-05T06:44:28.526424",
     "status": "completed"
    },
    "tags": []
   },
   "outputs": [
    {
     "name": "stdout",
     "output_type": "stream",
     "text": [
      "375/375 [==============================] - 4s 9ms/step\n",
      "F1_score on test is 0.48525669809908695\n"
     ]
    }
   ],
   "source": [
    "pred = model.predict((x_test1, x_test2))\n",
    "print('F1_score on test is', f1_score(np.argmax(pred, axis=1), np.argmax(y_test, axis=1)))"
   ]
  }
 ],
 "metadata": {
  "kernelspec": {
   "display_name": "Python 3.8.10 64-bit",
   "language": "python",
   "name": "python3"
  },
  "language_info": {
   "codemirror_mode": {
    "name": "ipython",
    "version": 3
   },
   "file_extension": ".py",
   "mimetype": "text/x-python",
   "name": "python",
   "nbconvert_exporter": "python",
   "pygments_lexer": "ipython3",
   "version": "3.8.10"
  },
  "papermill": {
   "default_parameters": {},
   "duration": 181.391801,
   "end_time": "2021-12-05T06:44:36.786152",
   "environment_variables": {},
   "exception": null,
   "input_path": "__notebook__.ipynb",
   "output_path": "__notebook__.ipynb",
   "parameters": {},
   "start_time": "2021-12-05T06:41:35.394351",
   "version": "2.3.3"
  },
  "vscode": {
   "interpreter": {
    "hash": "916dbcbb3f70747c44a77c7bcd40155683ae19c65e1c03b4aa3499c5328201f1"
   }
  }
 },
 "nbformat": 4,
 "nbformat_minor": 5
}
