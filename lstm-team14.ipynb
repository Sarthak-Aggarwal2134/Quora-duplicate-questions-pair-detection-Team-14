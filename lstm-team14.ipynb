{
 "cells": [
  {
   "cell_type": "code",
   "execution_count": 63,
   "id": "1a13be30",
   "metadata": {
    "_cell_guid": "b1076dfc-b9ad-4769-8c92-a6c4dae69d19",
    "_uuid": "8f2839f25d086af736a60e9eeb907d3b93b6e0e5",
    "execution": {
     "iopub.execute_input": "2021-11-26T18:14:37.783468Z",
     "iopub.status.busy": "2021-11-26T18:14:37.782690Z",
     "iopub.status.idle": "2021-11-26T18:14:41.953150Z",
     "shell.execute_reply": "2021-11-26T18:14:41.954368Z",
     "shell.execute_reply.started": "2021-11-26T17:56:19.846762Z"
    },
    "papermill": {
     "duration": 4.191386,
     "end_time": "2021-11-26T18:14:41.954735",
     "exception": false,
     "start_time": "2021-11-26T18:14:37.763349",
     "status": "completed"
    },
    "tags": []
   },
   "outputs": [],
   "source": [
    "import pandas as pd\n",
    "from sklearn.metrics import f1_score\n",
    "import tensorflow as tf\n",
    "import numpy as np\n",
    "from tqdm import tqdm\n",
    "import matplotlib.pyplot as plt"
   ]
  },
  {
   "cell_type": "code",
   "execution_count": 64,
   "id": "c5f52dac",
   "metadata": {
    "execution": {
     "iopub.execute_input": "2021-11-26T18:14:41.993600Z",
     "iopub.status.busy": "2021-11-26T18:14:41.992571Z",
     "iopub.status.idle": "2021-11-26T18:14:45.169838Z",
     "shell.execute_reply": "2021-11-26T18:14:45.169283Z",
     "shell.execute_reply.started": "2021-11-26T17:56:26.953962Z"
    },
    "papermill": {
     "duration": 3.199282,
     "end_time": "2021-11-26T18:14:45.169962",
     "exception": false,
     "start_time": "2021-11-26T18:14:41.970680",
     "status": "completed"
    },
    "tags": []
   },
   "outputs": [],
   "source": [
    "train = pd.read_csv('train.csv')\n",
    "train = train.fillna('')"
   ]
  },
  {
   "cell_type": "code",
   "execution_count": 65,
   "id": "50ad92c1",
   "metadata": {},
   "outputs": [
    {
     "data": {
      "image/png": "[encoded data removed]",
      "text/plain": [
       "<Figure size 432x288 with 1 Axes>"
      ]
     },
     "metadata": {
      "needs_background": "light"
     },
     "output_type": "display_data"
    },
    {
     "data": {
      "image/png": "[encoded data removed]",
      "text/plain": [
       "<Figure size 432x288 with 1 Axes>"
      ]
     },
     "metadata": {
      "needs_background": "light"
     },
     "output_type": "display_data"
    }
   ],
   "source": [
    "plt.hist(train['question1'].apply(lambda x: len(x.split())), bins=50, alpha=0.5, label='question1')\n",
    "plt.title('Distribution of the length of the questions')\n",
    "plt.xlabel('Length of the questions')\n",
    "plt.ylabel('Number of questions')\n",
    "plt.legend(['question1', 'question2'])\n",
    "plt.show()\n",
    "\n",
    "plt.hist(train['is_duplicate'], bins=50)\n",
    "plt.title('Distribution of the is_duplicate')\n",
    "plt.xlabel('is_duplicate')\n",
    "plt.ylabel('Number of questions')\n",
    "plt.legend(['is_duplicate'])\n",
    "plt.show()"
   ]
  },
  {
   "cell_type": "code",
   "execution_count": 66,
   "id": "f7e484c9",
   "metadata": {},
   "outputs": [
    {
     "name": "stdout",
     "output_type": "stream",
     "text": [
      "Bias =  0.369197853026293\n",
      "variance =  0.23289137439736537\n"
     ]
    }
   ],
   "source": [
    "bias = train['is_duplicate'].sum() / train['is_duplicate'].count()\n",
    "print('Bias = ', bias)\n",
    "variance = train['is_duplicate'].var()\n",
    "print('variance = ', variance)"
   ]
  },
  {
   "cell_type": "code",
   "execution_count": 67,
   "id": "d8a23204",
   "metadata": {
    "execution": {
     "iopub.execute_input": "2021-11-26T18:14:45.195773Z",
     "iopub.status.busy": "2021-11-26T18:14:45.194923Z",
     "iopub.status.idle": "2021-11-26T18:14:45.208191Z",
     "shell.execute_reply": "2021-11-26T18:14:45.208631Z",
     "shell.execute_reply.started": "2021-11-26T17:56:30.143972Z"
    },
    "papermill": {
     "duration": 0.029757,
     "end_time": "2021-11-26T18:14:45.208760",
     "exception": false,
     "start_time": "2021-11-26T18:14:45.179003",
     "status": "completed"
    },
    "tags": []
   },
   "outputs": [
    {
     "data": {
      "text/html": [
       "<div>\n",
       "<style scoped>\n",
       "    .dataframe tbody tr th:only-of-type {\n",
       "        vertical-align: middle;\n",
       "    }\n",
       "\n",
       "    .dataframe tbody tr th {\n",
       "        vertical-align: top;\n",
       "    }\n",
       "\n",
       "    .dataframe thead th {\n",
       "        text-align: right;\n",
       "    }\n",
       "</style>\n",
       "<table border=\"1\" class=\"dataframe\">\n",
       "  <thead>\n",
       "    <tr style=\"text-align: right;\">\n",
       "      <th></th>\n",
       "      <th>id</th>\n",
       "      <th>qid1</th>\n",
       "      <th>qid2</th>\n",
       "      <th>question1</th>\n",
       "      <th>question2</th>\n",
       "      <th>is_duplicate</th>\n",
       "    </tr>\n",
       "  </thead>\n",
       "  <tbody>\n",
       "    <tr>\n",
       "      <th>27347</th>\n",
       "      <td>27347</td>\n",
       "      <td>50815</td>\n",
       "      <td>50816</td>\n",
       "      <td>Should Naruto die?</td>\n",
       "      <td>How many and which characters die in Naruto?</td>\n",
       "      <td>0</td>\n",
       "    </tr>\n",
       "    <tr>\n",
       "      <th>45766</th>\n",
       "      <td>45766</td>\n",
       "      <td>56853</td>\n",
       "      <td>81959</td>\n",
       "      <td>Can I drink green tea at night?</td>\n",
       "      <td>Is it fine to drink green tea 2 hours after di...</td>\n",
       "      <td>0</td>\n",
       "    </tr>\n",
       "    <tr>\n",
       "      <th>14580</th>\n",
       "      <td>14580</td>\n",
       "      <td>27909</td>\n",
       "      <td>27910</td>\n",
       "      <td>Which is better modern education system or anc...</td>\n",
       "      <td>How can you argue that ancient Indian educatio...</td>\n",
       "      <td>0</td>\n",
       "    </tr>\n",
       "    <tr>\n",
       "      <th>28862</th>\n",
       "      <td>28862</td>\n",
       "      <td>53472</td>\n",
       "      <td>53473</td>\n",
       "      <td>Why do men have this need to boast to a potent...</td>\n",
       "      <td>Why do many gay men marry women and have kids,...</td>\n",
       "      <td>0</td>\n",
       "    </tr>\n",
       "    <tr>\n",
       "      <th>5531</th>\n",
       "      <td>5531</td>\n",
       "      <td>10875</td>\n",
       "      <td>10876</td>\n",
       "      <td>How do I get admission in government schools o...</td>\n",
       "      <td>How can I get admissions in a good school in 1...</td>\n",
       "      <td>0</td>\n",
       "    </tr>\n",
       "  </tbody>\n",
       "</table>\n",
       "</div>"
      ],
      "text/plain": [
       "          id   qid1   qid2                                          question1  \\\n",
       "27347  27347  50815  50816                                 Should Naruto die?   \n",
       "45766  45766  56853  81959                    Can I drink green tea at night?   \n",
       "14580  14580  27909  27910  Which is better modern education system or anc...   \n",
       "28862  28862  53472  53473  Why do men have this need to boast to a potent...   \n",
       "5531    5531  10875  10876  How do I get admission in government schools o...   \n",
       "\n",
       "                                               question2  is_duplicate  \n",
       "27347       How many and which characters die in Naruto?             0  \n",
       "45766  Is it fine to drink green tea 2 hours after di...             0  \n",
       "14580  How can you argue that ancient Indian educatio...             0  \n",
       "28862  Why do many gay men marry women and have kids,...             0  \n",
       "5531   How can I get admissions in a good school in 1...             0  "
      ]
     },
     "execution_count": 67,
     "metadata": {},
     "output_type": "execute_result"
    }
   ],
   "source": [
    "train = train[:60000]\n",
    "train, test, val = np.split(train.sample(frac=1), [int(.7*len(train)), int(.9*len(train))])\n",
    "train.head()"
   ]
  },
  {
   "cell_type": "code",
   "execution_count": 68,
   "id": "7296ed39",
   "metadata": {},
   "outputs": [
    {
     "data": {
      "image/png": "[encoded data removed]",
      "text/plain": [
       "<Figure size 432x288 with 1 Axes>"
      ]
     },
     "metadata": {
      "needs_background": "light"
     },
     "output_type": "display_data"
    },
    {
     "data": {
      "image/png": "[encoded data removed]",
      "text/plain": [
       "<Figure size 432x288 with 1 Axes>"
      ]
     },
     "metadata": {
      "needs_background": "light"
     },
     "output_type": "display_data"
    }
   ],
   "source": [
    "plt.hist(train['question1'].apply(lambda x: len(x.split())), bins=50, alpha=0.5, label='question1')\n",
    "plt.title('Distribution of the length of the questions')\n",
    "plt.xlabel('Length of the questions')\n",
    "plt.ylabel('Number of questions')\n",
    "plt.legend(['question1', 'question2'])\n",
    "plt.show()\n",
    "\n",
    "plt.hist(train['is_duplicate'], bins=50)\n",
    "plt.title('Distribution of the is_duplicate')\n",
    "plt.xlabel('is_duplicate')\n",
    "plt.ylabel('Number of questions')\n",
    "plt.legend(['is_duplicate'])\n",
    "plt.show()"
   ]
  },
  {
   "cell_type": "code",
   "execution_count": 69,
   "id": "bfed6146",
   "metadata": {},
   "outputs": [
    {
     "name": "stdout",
     "output_type": "stream",
     "text": [
      "Bias =  0.372952380952381\n",
      "variance =  0.23386447069601438\n"
     ]
    }
   ],
   "source": [
    "bias = train['is_duplicate'].sum() / train['is_duplicate'].count()\n",
    "print('Bias = ', bias)\n",
    "variance = train['is_duplicate'].var()\n",
    "print('variance = ', variance)"
   ]
  },
  {
   "cell_type": "code",
   "execution_count": 70,
   "id": "8fa27fcb",
   "metadata": {
    "execution": {
     "iopub.execute_input": "2021-11-26T18:14:45.238700Z",
     "iopub.status.busy": "2021-11-26T18:14:45.237118Z",
     "iopub.status.idle": "2021-11-26T18:14:45.239284Z",
     "shell.execute_reply": "2021-11-26T18:14:45.239731Z",
     "shell.execute_reply.started": "2021-11-26T17:56:30.166119Z"
    },
    "papermill": {
     "duration": 0.019947,
     "end_time": "2021-11-26T18:14:45.239854",
     "exception": false,
     "start_time": "2021-11-26T18:14:45.219907",
     "status": "completed"
    },
    "tags": []
   },
   "outputs": [],
   "source": [
    "def Vocab(str):\n",
    "    tokenizer = tf.keras.preprocessing.text.Tokenizer(lower=False, split=' ')\n",
    "    tokenizer.fit_on_texts(str)\n",
    "    return tokenizer\n",
    "\n",
    "def SeqExt(str, tokenizer, seq_maxlen):\n",
    "    str_seq = tokenizer.texts_to_sequences(str)\n",
    "    arr = tf.keras.preprocessing.sequence.pad_sequences(str_seq, maxlen=seq_maxlen)\n",
    "    arr = np.array(arr)\n",
    "    return arr"
   ]
  },
  {
   "cell_type": "code",
   "execution_count": 71,
   "id": "a41d217f",
   "metadata": {
    "execution": {
     "iopub.execute_input": "2021-11-26T18:14:45.315453Z",
     "iopub.status.busy": "2021-11-26T18:14:45.278292Z",
     "iopub.status.idle": "2021-11-26T18:15:16.814780Z",
     "shell.execute_reply": "2021-11-26T18:15:16.814228Z",
     "shell.execute_reply.started": "2021-11-26T17:56:30.179531Z"
    },
    "papermill": {
     "duration": 31.5663,
     "end_time": "2021-11-26T18:15:16.814919",
     "exception": false,
     "start_time": "2021-11-26T18:14:45.248619",
     "status": "completed"
    },
    "tags": [],
    "vscode": {
     "languageId": "ruby"
    }
   },
   "outputs": [
    {
     "name": "stdout",
     "output_type": "stream",
     "text": [
      "46728\n"
     ]
    }
   ],
   "source": [
    "str = train['question1'].tolist()\n",
    "str = str + train['question2'].tolist()\n",
    "str = str + test['question1'].tolist()\n",
    "str = str + test['question2'].tolist()\n",
    "str = str + val['question1'].tolist()\n",
    "str = str + val['question2'].tolist()\n",
    "tokenizer = Vocab(str)\n",
    "\n",
    "vocab_size = len(tokenizer.word_index) + 1\n",
    "print(vocab_size)\n",
    "\n",
    "x_train1 = SeqExt(train['question1'], tokenizer, 128)\n",
    "x_train2 = SeqExt(train['question2'], tokenizer, 128)\n",
    "y_train = tf.keras.utils.to_categorical(train['is_duplicate'])\n",
    "\n",
    "x_test1 = SeqExt(test['question1'], tokenizer, 128)\n",
    "x_test2 = SeqExt(test['question2'], tokenizer, 128)\n",
    "y_test = tf.keras.utils.to_categorical(test['is_duplicate'])\n",
    "\n",
    "x_val1 = SeqExt(val['question1'], tokenizer, 128)\n",
    "x_val2 = SeqExt(val['question2'], tokenizer, 128)\n",
    "y_val = tf.keras.utils.to_categorical(val['is_duplicate'])"
   ]
  },
  {
   "cell_type": "code",
   "execution_count": 72,
   "id": "fcdb1de3",
   "metadata": {},
   "outputs": [],
   "source": [
    "def Glove():\n",
    "    embedding_vectors = {}\n",
    "    with open('glove.840B.300d.txt') as file:\n",
    "        for line in tqdm(file):\n",
    "            values = line.split(' ')\n",
    "            coefs = np.asarray(values[1:], dtype='float32')\n",
    "            word = values[0]\n",
    "            embedding_vectors[word] = coefs\n",
    "    return embedding_vectors"
   ]
  },
  {
   "cell_type": "code",
   "execution_count": 73,
   "id": "bc5172d7",
   "metadata": {},
   "outputs": [
    {
     "name": "stderr",
     "output_type": "stream",
     "text": [
      "2196018it [01:03, 34539.74it/s]\n"
     ]
    },
    {
     "name": "stdout",
     "output_type": "stream",
     "text": [
      "2196017\n"
     ]
    }
   ],
   "source": [
    "embedding_vectors = Glove()\n",
    "print(len(embedding_vectors))"
   ]
  },
  {
   "cell_type": "code",
   "execution_count": 74,
   "id": "ee7c3214",
   "metadata": {},
   "outputs": [],
   "source": [
    "def EmbedMat(embedding_vectors, word2idx):    \n",
    "    embedding_matrix = np.zeros((len(word2idx)+1, 300))\n",
    "    for word, i in tqdm(word2idx.items()):\n",
    "        embedding_vector = embedding_vectors.get(word)\n",
    "        if embedding_vector is not None:\n",
    "            embedding_matrix[i] = embedding_vector\n",
    "    return embedding_matrix"
   ]
  },
  {
   "cell_type": "code",
   "execution_count": 75,
   "id": "8db43fe3",
   "metadata": {
    "execution": {
     "iopub.execute_input": "2021-11-26T18:15:16.838267Z",
     "iopub.status.busy": "2021-11-26T18:15:16.835891Z",
     "iopub.status.idle": "2021-11-26T18:19:31.227869Z",
     "shell.execute_reply": "2021-11-26T18:19:31.228578Z",
     "shell.execute_reply.started": "2021-11-26T17:57:01.886419Z"
    },
    "papermill": {
     "duration": 254.404221,
     "end_time": "2021-11-26T18:19:31.228737",
     "exception": false,
     "start_time": "2021-11-26T18:15:16.824516",
     "status": "completed"
    },
    "tags": []
   },
   "outputs": [
    {
     "name": "stderr",
     "output_type": "stream",
     "text": [
      "100%|██████████| 46727/46727 [00:00<00:00, 193866.54it/s]"
     ]
    },
    {
     "name": "stdout",
     "output_type": "stream",
     "text": [
      "(46728, 300)\n"
     ]
    },
    {
     "name": "stderr",
     "output_type": "stream",
     "text": [
      "\n"
     ]
    }
   ],
   "source": [
    "embedmat = EmbedMat(embedding_vectors, tokenizer.word_index)\n",
    "print(embedmat.shape)"
   ]
  },
  {
   "cell_type": "code",
   "execution_count": 76,
   "id": "954442f3",
   "metadata": {
    "execution": {
     "iopub.execute_input": "2021-11-26T18:19:32.562800Z",
     "iopub.status.busy": "2021-11-26T18:19:32.562194Z",
     "iopub.status.idle": "2021-11-26T18:19:35.778668Z",
     "shell.execute_reply": "2021-11-26T18:19:35.778029Z",
     "shell.execute_reply.started": "2021-11-26T18:13:38.539986Z"
    },
    "papermill": {
     "duration": 3.859439,
     "end_time": "2021-11-26T18:19:35.778801",
     "exception": false,
     "start_time": "2021-11-26T18:19:31.919362",
     "status": "completed"
    },
    "tags": []
   },
   "outputs": [],
   "source": [
    "i1 = tf.keras.Input(shape=(x_train1.shape[1],))\n",
    "i2 = tf.keras.Input(shape=(x_train2.shape[1],))\n",
    "\n",
    "inner1= tf.keras.layers.Embedding(input_dim=embedmat.shape[0], output_dim=embedmat.shape[1], input_length=128, \n",
    "                                  weights=[embedmat], trainable=False)(i1)\n",
    "inner2= tf.keras.layers.Embedding(input_dim=embedmat.shape[0], output_dim=embedmat.shape[1], input_length=128,\n",
    "                                  weights=[embedmat], trainable=False)(i2)\n",
    "inner = tf.keras.layers.concatenate([inner1+inner2, inner1-inner2, tf.math.multiply(inner1, inner2)], axis=-1)\n",
    "out, h, c = tf.keras.layers.LSTM(150, return_sequences=False, dropout=0.2, return_state=True)(inner)\n",
    "output = tf.keras.layers.Dense(2, activation='softmax')(c)\n",
    "\n",
    "model = tf.keras.Model(inputs = [i1, i2], outputs = output)"
   ]
  },
  {
   "cell_type": "code",
   "execution_count": 77,
   "id": "2f51a872",
   "metadata": {
    "execution": {
     "iopub.execute_input": "2021-11-26T18:19:37.072180Z",
     "iopub.status.busy": "2021-11-26T18:19:37.071160Z",
     "iopub.status.idle": "2021-11-26T18:19:37.085955Z",
     "shell.execute_reply": "2021-11-26T18:19:37.085202Z",
     "shell.execute_reply.started": "2021-11-26T18:13:39.333304Z"
    },
    "papermill": {
     "duration": 0.664744,
     "end_time": "2021-11-26T18:19:37.086081",
     "exception": false,
     "start_time": "2021-11-26T18:19:36.421337",
     "status": "completed"
    },
    "tags": []
   },
   "outputs": [
    {
     "name": "stdout",
     "output_type": "stream",
     "text": [
      "Model: \"model_4\"\n",
      "__________________________________________________________________________________________________\n",
      " Layer (type)                   Output Shape         Param #     Connected to                     \n",
      "==================================================================================================\n",
      " input_11 (InputLayer)          [(None, 128)]        0           []                               \n",
      "                                                                                                  \n",
      " input_12 (InputLayer)          [(None, 128)]        0           []                               \n",
      "                                                                                                  \n",
      " embedding_9 (Embedding)        (None, 128, 300)     14018400    ['input_11[0][0]']               \n",
      "                                                                                                  \n",
      " embedding_10 (Embedding)       (None, 128, 300)     14018400    ['input_12[0][0]']               \n",
      "                                                                                                  \n",
      " tf.__operators__.add_4 (TFOpLa  (None, 128, 300)    0           ['embedding_9[0][0]',            \n",
      " mbda)                                                            'embedding_10[0][0]']           \n",
      "                                                                                                  \n",
      " tf.math.subtract_4 (TFOpLambda  (None, 128, 300)    0           ['embedding_9[0][0]',            \n",
      " )                                                                'embedding_10[0][0]']           \n",
      "                                                                                                  \n",
      " tf.math.multiply_4 (TFOpLambda  (None, 128, 300)    0           ['embedding_9[0][0]',            \n",
      " )                                                                'embedding_10[0][0]']           \n",
      "                                                                                                  \n",
      " concatenate_4 (Concatenate)    (None, 128, 900)     0           ['tf.__operators__.add_4[0][0]', \n",
      "                                                                  'tf.math.subtract_4[0][0]',     \n",
      "                                                                  'tf.math.multiply_4[0][0]']     \n",
      "                                                                                                  \n",
      " lstm_4 (LSTM)                  [(None, 150),        630600      ['concatenate_4[0][0]']          \n",
      "                                 (None, 150),                                                     \n",
      "                                 (None, 150)]                                                     \n",
      "                                                                                                  \n",
      " dense_4 (Dense)                (None, 2)            302         ['lstm_4[0][2]']                 \n",
      "                                                                                                  \n",
      "==================================================================================================\n",
      "Total params: 28,667,702\n",
      "Trainable params: 630,902\n",
      "Non-trainable params: 28,036,800\n",
      "__________________________________________________________________________________________________\n"
     ]
    }
   ],
   "source": [
    "model.compile(optimizer = tf.keras.optimizers.Adam(learning_rate=0.009), loss = 'binary_crossentropy', metrics=['accuracy'])\n",
    "model.summary()"
   ]
  },
  {
   "cell_type": "code",
   "execution_count": 78,
   "id": "cbe9af94",
   "metadata": {
    "execution": {
     "iopub.execute_input": "2021-11-26T18:19:38.372421Z",
     "iopub.status.busy": "2021-11-26T18:19:38.371476Z",
     "iopub.status.idle": "2021-11-26T20:02:56.261601Z",
     "shell.execute_reply": "2021-11-26T20:02:56.262118Z",
     "shell.execute_reply.started": "2021-11-26T18:13:39.802509Z"
    },
    "papermill": {
     "duration": 6198.532529,
     "end_time": "2021-11-26T20:02:56.262297",
     "exception": false,
     "start_time": "2021-11-26T18:19:37.729768",
     "status": "completed"
    },
    "tags": []
   },
   "outputs": [
    {
     "name": "stdout",
     "output_type": "stream",
     "text": [
      "Epoch 1/4\n",
      "5250/5250 [==============================] - ETA: 0s - loss: 0.5886 - accuracy: 0.6956\n",
      "Epoch 1: saving model to weights.best.1.hdf5\n",
      "5250/5250 [==============================] - 472s 90ms/step - loss: 0.5886 - accuracy: 0.6956 - val_loss: 0.5721 - val_accuracy: 0.7122\n",
      "Epoch 2/4\n",
      "5250/5250 [==============================] - ETA: 0s - loss: 0.5547 - accuracy: 0.7234\n",
      "Epoch 2: saving model to weights.best.2.hdf5\n",
      "5250/5250 [==============================] - 464s 88ms/step - loss: 0.5547 - accuracy: 0.7234 - val_loss: 0.5677 - val_accuracy: 0.7092\n",
      "Epoch 3/4\n",
      "5250/5250 [==============================] - ETA: 0s - loss: 0.5344 - accuracy: 0.7315\n",
      "Epoch 3: saving model to weights.best.3.hdf5\n",
      "5250/5250 [==============================] - 468s 89ms/step - loss: 0.5344 - accuracy: 0.7315 - val_loss: 0.5463 - val_accuracy: 0.7307\n",
      "Epoch 4/4\n",
      "5250/5250 [==============================] - ETA: 0s - loss: 0.5265 - accuracy: 0.7370\n",
      "Epoch 4: saving model to weights.best.4.hdf5\n",
      "5250/5250 [==============================] - 482s 92ms/step - loss: 0.5265 - accuracy: 0.7370 - val_loss: 0.5506 - val_accuracy: 0.7262\n"
     ]
    }
   ],
   "source": [
    "checkpoint_filepath  = 'weights.best.{epoch:01d}.hdf5'\n",
    "model_checkpoint_callback = tf.keras.callbacks.ModelCheckpoint(filepath=checkpoint_filepath,\n",
    "                                                                verbose = 1, \n",
    "                                                                monitor = 'val_loss',\n",
    "                                                                save_best_only = False)\n",
    "history = model.fit((x_train1, x_train2), y_train,\n",
    "                    batch_size = 8,\n",
    "                    validation_data = ((x_val1, x_val2), y_val),\n",
    "                    validation_batch_size = 4,\n",
    "                    epochs=4,\n",
    "                    callbacks=[model_checkpoint_callback], \n",
    "                    verbose=1)"
   ]
  },
  {
   "cell_type": "code",
   "execution_count": 79,
   "id": "870edd3f",
   "metadata": {
    "execution": {
     "iopub.execute_input": "2021-11-26T20:03:48.225110Z",
     "iopub.status.busy": "2021-11-26T20:03:48.217687Z",
     "iopub.status.idle": "2021-11-26T20:05:10.212279Z",
     "shell.execute_reply": "2021-11-26T20:05:10.212821Z",
     "shell.execute_reply.started": "2021-11-26T06:44:15.964825Z"
    },
    "papermill": {
     "duration": 108.105881,
     "end_time": "2021-11-26T20:05:10.213002",
     "exception": false,
     "start_time": "2021-11-26T20:03:22.107121",
     "status": "completed"
    },
    "tags": []
   },
   "outputs": [
    {
     "name": "stdout",
     "output_type": "stream",
     "text": [
      "3000/3000 [==============================] - 65s 21ms/step - loss: 0.5600 - accuracy: 0.7163\n",
      "Loss : 0.5599597692489624\n",
      "Accuracy : 0.7163333296775818\n"
     ]
    },
    {
     "data": {
      "text/plain": [
       "(None, None)"
      ]
     },
     "execution_count": 79,
     "metadata": {},
     "output_type": "execute_result"
    }
   ],
   "source": [
    "loss, accuracy = model.evaluate((x_test1, x_test2), y_test, batch_size=4, verbose=1)\n",
    "print('Loss :', loss), print('Accuracy :', accuracy)"
   ]
  },
  {
   "cell_type": "code",
   "execution_count": 80,
   "id": "fa64f411",
   "metadata": {
    "execution": {
     "iopub.execute_input": "2021-11-26T20:06:02.964643Z",
     "iopub.status.busy": "2021-11-26T20:06:02.963631Z",
     "iopub.status.idle": "2021-11-26T20:06:08.452017Z",
     "shell.execute_reply": "2021-11-26T20:06:08.451407Z",
     "shell.execute_reply.started": "2021-11-26T06:48:04.404082Z"
    },
    "papermill": {
     "duration": 31.797483,
     "end_time": "2021-11-26T20:06:08.452161",
     "exception": false,
     "start_time": "2021-11-26T20:05:36.654678",
     "status": "completed"
    },
    "tags": []
   },
   "outputs": [
    {
     "name": "stdout",
     "output_type": "stream",
     "text": [
      "375/375 [==============================] - 16s 41ms/step\n",
      "f1_score on test dataset is 0.6291130965351929\n"
     ]
    }
   ],
   "source": [
    "pred = model.predict((x_test1, x_test2))\n",
    "print('f1_score on test dataset is', f1_score(np.argmax(pred, axis=1), np.argmax(y_test, axis=1)))"
   ]
  }
 ],
 "metadata": {
  "kernelspec": {
   "display_name": "Python 3.9.13 64-bit ('3.9.13')",
   "language": "python",
   "name": "python3"
  },
  "language_info": {
   "codemirror_mode": {
    "name": "ipython",
    "version": 3
   },
   "file_extension": ".py",
   "mimetype": "text/x-python",
   "name": "python",
   "nbconvert_exporter": "python",
   "pygments_lexer": "ipython3",
   "version": "3.9.13"
  },
  "papermill": {
   "default_parameters": {},
   "duration": 6727.359414,
   "end_time": "2021-11-26T20:06:37.731248",
   "environment_variables": {},
   "exception": null,
   "input_path": "__notebook__.ipynb",
   "output_path": "__notebook__.ipynb",
   "parameters": {},
   "start_time": "2021-11-26T18:14:30.371834",
   "version": "2.3.3"
  },
  "vscode": {
   "interpreter": {
    "hash": "f41c49a37b4cb3062a0a8a444e02de43de218a1a5aeb2bbc8c7b02ec73503f26"
   }
  }
 },
 "nbformat": 4,
 "nbformat_minor": 5
}
